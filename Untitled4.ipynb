{
  "nbformat": 4,
  "nbformat_minor": 0,
  "metadata": {
    "colab": {
      "provenance": [],
      "authorship_tag": "ABX9TyM1wPH045Zs6nAcJ/bKR1Cs",
      "include_colab_link": true
    },
    "kernelspec": {
      "name": "python3",
      "display_name": "Python 3"
    },
    "language_info": {
      "name": "python"
    }
  },
  "cells": [
    {
      "cell_type": "markdown",
      "metadata": {
        "id": "view-in-github",
        "colab_type": "text"
      },
      "source": [
        "<a href=\"https://colab.research.google.com/github/albernazz/assistente-virtual/blob/main/Untitled4.ipynb\" target=\"_parent\"><img src=\"https://colab.research.google.com/assets/colab-badge.svg\" alt=\"Open In Colab\"/></a>"
      ]
    },
    {
      "cell_type": "code",
      "source": [
        "!pip install SpeechRecognition\n",
        "!pip install pyttsx3\n",
        "!pip install wikipedia\n",
        "!pip install webbrowser\n",
        "!pip install gTTS\n",
        "!pip install pyaudio\n"
      ],
      "metadata": {
        "colab": {
          "base_uri": "https://localhost:8080/"
        },
        "collapsed": true,
        "id": "LGzu0cMHVOAo",
        "outputId": "30bd1010-0489-41ac-baed-1c2ead9e6b62"
      },
      "execution_count": null,
      "outputs": [
        {
          "output_type": "stream",
          "name": "stdout",
          "text": [
            "Requirement already satisfied: SpeechRecognition in /usr/local/lib/python3.11/dist-packages (3.14.1)\n",
            "Requirement already satisfied: typing-extensions in /usr/local/lib/python3.11/dist-packages (from SpeechRecognition) (4.12.2)\n",
            "Requirement already satisfied: pyttsx3 in /usr/local/lib/python3.11/dist-packages (2.98)\n",
            "Requirement already satisfied: wikipedia in /usr/local/lib/python3.11/dist-packages (1.4.0)\n",
            "Requirement already satisfied: beautifulsoup4 in /usr/local/lib/python3.11/dist-packages (from wikipedia) (4.13.3)\n",
            "Requirement already satisfied: requests<3.0.0,>=2.0.0 in /usr/local/lib/python3.11/dist-packages (from wikipedia) (2.32.3)\n",
            "Requirement already satisfied: charset-normalizer<4,>=2 in /usr/local/lib/python3.11/dist-packages (from requests<3.0.0,>=2.0.0->wikipedia) (3.4.1)\n",
            "Requirement already satisfied: idna<4,>=2.5 in /usr/local/lib/python3.11/dist-packages (from requests<3.0.0,>=2.0.0->wikipedia) (3.10)\n",
            "Requirement already satisfied: urllib3<3,>=1.21.1 in /usr/local/lib/python3.11/dist-packages (from requests<3.0.0,>=2.0.0->wikipedia) (2.3.0)\n",
            "Requirement already satisfied: certifi>=2017.4.17 in /usr/local/lib/python3.11/dist-packages (from requests<3.0.0,>=2.0.0->wikipedia) (2025.1.31)\n",
            "Requirement already satisfied: soupsieve>1.2 in /usr/local/lib/python3.11/dist-packages (from beautifulsoup4->wikipedia) (2.6)\n",
            "Requirement already satisfied: typing-extensions>=4.0.0 in /usr/local/lib/python3.11/dist-packages (from beautifulsoup4->wikipedia) (4.12.2)\n",
            "\u001b[31mERROR: Could not find a version that satisfies the requirement webbrowser (from versions: none)\u001b[0m\u001b[31m\n",
            "\u001b[0m\u001b[31mERROR: No matching distribution found for webbrowser\u001b[0m\u001b[31m\n",
            "\u001b[0mRequirement already satisfied: gTTS in /usr/local/lib/python3.11/dist-packages (2.5.4)\n",
            "Requirement already satisfied: requests<3,>=2.27 in /usr/local/lib/python3.11/dist-packages (from gTTS) (2.32.3)\n",
            "Requirement already satisfied: click<8.2,>=7.1 in /usr/local/lib/python3.11/dist-packages (from gTTS) (8.1.8)\n",
            "Requirement already satisfied: charset-normalizer<4,>=2 in /usr/local/lib/python3.11/dist-packages (from requests<3,>=2.27->gTTS) (3.4.1)\n",
            "Requirement already satisfied: idna<4,>=2.5 in /usr/local/lib/python3.11/dist-packages (from requests<3,>=2.27->gTTS) (3.10)\n",
            "Requirement already satisfied: urllib3<3,>=1.21.1 in /usr/local/lib/python3.11/dist-packages (from requests<3,>=2.27->gTTS) (2.3.0)\n",
            "Requirement already satisfied: certifi>=2017.4.17 in /usr/local/lib/python3.11/dist-packages (from requests<3,>=2.27->gTTS) (2025.1.31)\n",
            "Collecting pyaudio\n",
            "  Using cached PyAudio-0.2.14.tar.gz (47 kB)\n",
            "  Installing build dependencies ... \u001b[?25l\u001b[?25hdone\n",
            "  Getting requirements to build wheel ... \u001b[?25l\u001b[?25hdone\n",
            "  Preparing metadata (pyproject.toml) ... \u001b[?25l\u001b[?25hdone\n",
            "Building wheels for collected packages: pyaudio\n",
            "  \u001b[1;31merror\u001b[0m: \u001b[1msubprocess-exited-with-error\u001b[0m\n",
            "  \n",
            "  \u001b[31m×\u001b[0m \u001b[32mBuilding wheel for pyaudio \u001b[0m\u001b[1;32m(\u001b[0m\u001b[32mpyproject.toml\u001b[0m\u001b[1;32m)\u001b[0m did not run successfully.\n",
            "  \u001b[31m│\u001b[0m exit code: \u001b[1;36m1\u001b[0m\n",
            "  \u001b[31m╰─>\u001b[0m See above for output.\n",
            "  \n",
            "  \u001b[1;35mnote\u001b[0m: This error originates from a subprocess, and is likely not a problem with pip.\n",
            "  Building wheel for pyaudio (pyproject.toml) ... \u001b[?25l\u001b[?25herror\n",
            "\u001b[31m  ERROR: Failed building wheel for pyaudio\u001b[0m\u001b[31m\n",
            "\u001b[0mFailed to build pyaudio\n",
            "\u001b[31mERROR: ERROR: Failed to build installable wheels for some pyproject.toml based projects (pyaudio)\u001b[0m\u001b[31m\n",
            "\u001b[0m"
          ]
        }
      ]
    },
    {
      "cell_type": "code",
      "source": [],
      "metadata": {
        "id": "_g98Lqf0y_zr"
      },
      "execution_count": null,
      "outputs": []
    },
    {
      "cell_type": "code",
      "source": [
        "!sudo apt-get install portaudio19-dev python3-dev\n",
        "!sudo apt-get install build-essential"
      ],
      "metadata": {
        "colab": {
          "base_uri": "https://localhost:8080/"
        },
        "id": "H1A2CrXuptoH",
        "outputId": "2d90486d-13f8-4e48-bd82-459381030e83"
      },
      "execution_count": null,
      "outputs": [
        {
          "output_type": "stream",
          "name": "stdout",
          "text": [
            "Reading package lists... Done\n",
            "Building dependency tree... Done\n",
            "Reading state information... Done\n",
            "python3-dev is already the newest version (3.10.6-1~22.04.1).\n",
            "python3-dev set to manually installed.\n",
            "The following additional packages will be installed:\n",
            "  libportaudio2 libportaudiocpp0\n",
            "Suggested packages:\n",
            "  portaudio19-doc\n",
            "The following NEW packages will be installed:\n",
            "  libportaudio2 libportaudiocpp0 portaudio19-dev\n",
            "0 upgraded, 3 newly installed, 0 to remove and 20 not upgraded.\n",
            "Need to get 188 kB of archives.\n",
            "After this operation, 927 kB of additional disk space will be used.\n",
            "Get:1 http://archive.ubuntu.com/ubuntu jammy/universe amd64 libportaudio2 amd64 19.6.0-1.1 [65.3 kB]\n",
            "Get:2 http://archive.ubuntu.com/ubuntu jammy/universe amd64 libportaudiocpp0 amd64 19.6.0-1.1 [16.1 kB]\n",
            "Get:3 http://archive.ubuntu.com/ubuntu jammy/universe amd64 portaudio19-dev amd64 19.6.0-1.1 [106 kB]\n",
            "Fetched 188 kB in 1s (329 kB/s)\n",
            "debconf: unable to initialize frontend: Dialog\n",
            "debconf: (No usable dialog-like program is installed, so the dialog based frontend cannot be used. at /usr/share/perl5/Debconf/FrontEnd/Dialog.pm line 78, <> line 3.)\n",
            "debconf: falling back to frontend: Readline\n",
            "debconf: unable to initialize frontend: Readline\n",
            "debconf: (This frontend requires a controlling tty.)\n",
            "debconf: falling back to frontend: Teletype\n",
            "dpkg-preconfigure: unable to re-open stdin: \n",
            "Selecting previously unselected package libportaudio2:amd64.\n",
            "(Reading database ... 124926 files and directories currently installed.)\n",
            "Preparing to unpack .../libportaudio2_19.6.0-1.1_amd64.deb ...\n",
            "Unpacking libportaudio2:amd64 (19.6.0-1.1) ...\n",
            "Selecting previously unselected package libportaudiocpp0:amd64.\n",
            "Preparing to unpack .../libportaudiocpp0_19.6.0-1.1_amd64.deb ...\n",
            "Unpacking libportaudiocpp0:amd64 (19.6.0-1.1) ...\n",
            "Selecting previously unselected package portaudio19-dev:amd64.\n",
            "Preparing to unpack .../portaudio19-dev_19.6.0-1.1_amd64.deb ...\n",
            "Unpacking portaudio19-dev:amd64 (19.6.0-1.1) ...\n",
            "Setting up libportaudio2:amd64 (19.6.0-1.1) ...\n",
            "Setting up libportaudiocpp0:amd64 (19.6.0-1.1) ...\n",
            "Setting up portaudio19-dev:amd64 (19.6.0-1.1) ...\n",
            "Processing triggers for libc-bin (2.35-0ubuntu3.8) ...\n",
            "/sbin/ldconfig.real: /usr/local/lib/libtbbbind_2_0.so.3 is not a symbolic link\n",
            "\n",
            "/sbin/ldconfig.real: /usr/local/lib/libtcm_debug.so.1 is not a symbolic link\n",
            "\n",
            "/sbin/ldconfig.real: /usr/local/lib/libur_adapter_opencl.so.0 is not a symbolic link\n",
            "\n",
            "/sbin/ldconfig.real: /usr/local/lib/libtbbmalloc.so.2 is not a symbolic link\n",
            "\n",
            "/sbin/ldconfig.real: /usr/local/lib/libumf.so.0 is not a symbolic link\n",
            "\n",
            "/sbin/ldconfig.real: /usr/local/lib/libtcm.so.1 is not a symbolic link\n",
            "\n",
            "/sbin/ldconfig.real: /usr/local/lib/libtbbmalloc_proxy.so.2 is not a symbolic link\n",
            "\n",
            "/sbin/ldconfig.real: /usr/local/lib/libhwloc.so.15 is not a symbolic link\n",
            "\n",
            "/sbin/ldconfig.real: /usr/local/lib/libtbb.so.12 is not a symbolic link\n",
            "\n",
            "/sbin/ldconfig.real: /usr/local/lib/libur_adapter_level_zero.so.0 is not a symbolic link\n",
            "\n",
            "/sbin/ldconfig.real: /usr/local/lib/libtbbbind_2_5.so.3 is not a symbolic link\n",
            "\n",
            "/sbin/ldconfig.real: /usr/local/lib/libur_loader.so.0 is not a symbolic link\n",
            "\n",
            "/sbin/ldconfig.real: /usr/local/lib/libtbbbind.so.3 is not a symbolic link\n",
            "\n",
            "Reading package lists... Done\n",
            "Building dependency tree... Done\n",
            "Reading state information... Done\n",
            "build-essential is already the newest version (12.9ubuntu3).\n",
            "0 upgraded, 0 newly installed, 0 to remove and 20 not upgraded.\n"
          ]
        }
      ]
    },
    {
      "cell_type": "code",
      "source": [
        "from gtts import gTTS\n",
        "import os\n",
        "from IPython.display import Audio\n",
        "\n",
        "def text_to_speech(text):\n",
        "    tts = gTTS(text=text, lang='pt', slow=False)\n",
        "    tts.save(\"output.mp3\")  # Salva o áudio em um arquivo MP3\n",
        "    return Audio(\"output.mp3\", autoplay=True)  # Retorna o áudio para ser reproduzido\n"
      ],
      "metadata": {
        "id": "tJFcLGE-VOEG"
      },
      "execution_count": null,
      "outputs": []
    },
    {
      "cell_type": "code",
      "source": [
        "text_to_speech(\"Olá! Eu sou o seu assistente virtual.\")\n"
      ],
      "metadata": {
        "colab": {
          "base_uri": "https://localhost:8080/",
          "height": 75
        },
        "id": "K-xdZ-FbVOG-",
        "outputId": "834f99f5-3d0c-4448-ffe8-f2ecae7bed98"
      },
      "execution_count": null,
      "outputs": [
        {
          "output_type": "execute_result",
          "data": {
            "text/plain": [
              "<IPython.lib.display.Audio object>"
            ],
            "text/html": [
              "\n",
              "                <audio  controls=\"controls\" autoplay=\"autoplay\">\n",
              "                    <source src=\"data:audio/mpeg;base64,//OExAAAAAAAAAAAAAAAAAAAAAAAAAAAAAAAAAAAAAAAAAAAAAAAAAAAAAAAAAAAAAAAAAAAAAAAAAAAAAAAAAAAAAAAAAAAAAAAAAAAAAAAAAAAAAAAAAAAAAAAAAAAAAAAAAAAAAAAAAAAAAAAAAAAAAAAAAAAAAAAAAAAAAAAAAAAAAAAAAAAAAAAAAAAAAAAAAAAAAAAAAAAAAAAAAAAAAAAAAAAAAAAAAAAAAAAAAAAAAAAAAAAAAAAAAAA//OExAAmKrYEAUwwABLM4zgQAIAQERQwsODASBIEgmHi9evXv3Xr14AAAQQIEIiEyZMmAwGAyZMAAAIIEI9kwggQIEAQAAAIAYDAZMmTJkyZAgQIECCEZ/+0Z/Gf///+IiI/iIiIiPEf//3EREREQTJ3d3ZMmQIECBAgQIECZMmTJ3Z5MgQIIRERBMmD4Pg++oEAwPB/4gdLg+/y4IAgCAY/5QEAwi7EoMseTnUczqZqXMkcE861FqXLEgc3L5uS//OExBoqXCZEAZloAW6I7hGCUWtNM3TN45GL5cqM0TrV1IFxJqknZ6ql2MjQ3dF3Ws08pqqVMTc2LhxSKmprqW1BFk2Z0R2FAJGkUB7mZkqtV3XfutHdOfTUpGiktF03Zuve7V1IakUFUGToHN0TNF1JJplwmJou5mial9d1J9aaHT/vrbPaGyd2VzcunUDFmMzqB08eGQVmw94DVXlAIfEICMGCVTEwQRDF4NCoUNdlwz9PDYIJC/6MVBhJgZGZ//OExCMtxCKAAZyoAYkDhmAhAU6B85EiIAQBINA8FBwCJVAVQIKEAzdAnwb+XSwbiEYe+LSQjtaUpXlwlUjE+Z0/WYMfUaIlE+pa0EDRNWOWS5A0CzKYyIe4RQwNDQoqY4X3da3NxHYuQkEhzGm4swPVEARpKPkgYP///////9//1ff/sqZoT6//02qQMGb/r3WpZlI9vr2ayCKbTZMuA4uYaFLlhmRhYYBJvMRh4FB4Rg4xSQDOu0MHtkyID0vC//OExB8v5Bp8AdyIAesJAIAnIygXoaZsmiYIB5iQDG6jkjQsOMmXQxaBNEvRNSGhy6OxREKHtExH0aVzEdx5dkSGK1KLB68ojnC4CZJ4ZoWcHjGBSSLw+9JJRDSuibGRDiSC2AnFZBVjmCDyJHlnRrDLmyCRdJgcslzIzNnQ/////+/0P0P32VqamkzW0eprdND2/V+tup2UiZuaqQPLOu6CDl8wSWbuif03OIs13K6kbawYDF4Z0kB7WI0rwxOV//OExBIrFBKIAOUa3Y+qhSI7rhc92TAoIMqFkeBT+2ycBoWA/9sCwwLqyDi+IIFgQ6c2agQEcafSIg3MSIIaiiSHmRf9IzVUkTIhUc8upGJRFymB+tZicQXWYkYRBkyoOEJwTC+5kSxeXYyJIWwcw0KJucHU3NDdf/////9alvq21v6LOh9BqLov2dkKkl/Z///+rRrostmTutBjhogdSQQQQM0W6HaVj8qmpS3IGFsyAeAgAxqGm4CMYm/L0Y4C//OExBgrO/qIAObU3M2rKmyp7mDT4TCN7GTw43MyibN0UB4kRsVZGejIAyTG9/wRb1z8Kacz//mqG3r/rW8Of+Nmx//ulqWN5V3Bbo8kOctUtbG/+/3SYd59+Qu3LxoFQA0FAL4X5cwoUHiGucMxUVCAWRePmf/////0v1ZV1M/VOl6HOxjL963bOv3///ap6Gspkw4wjYwaHzDJhcqhA8lQet7OYV2smilmPBKM8lcYM21Y6kVigcOcqRkwXDgk//OExB4sRCKIAOVU3edYrNiICygIAkDER/A0YSACQQOQRcxUFuRS7LUZDLF9+TRMdTnC+/RPPqU7a7omiknHKGmLIJw8yReL7rqMjAvm6aTjqBrEICsoIYgC6E0W5ASj0XDAeCIKC4jNHRu85v////+ljUZTz6Hpd9FdFOVDGpMmIjmuYYfRbGGPrvRf7deqz0nkppCYxl3a2c5qJ7Hl1oBi+NaGRkEMTskMHhlMGJUhdEPJ8yIra49L6RswhHAQ//OExCAl88KQAN1O3SW0SIE2DZIGDlGBIUCGEWPFxhAYtJrzIg7toGxp9J/SL7+o0Q1OYl92WgYEgnpmpqbuzrMTC2KQFABjJzFBGACDip84HwnLj5inI///////MPTjxp57m0bsxp6uch453lidjESjGLZj6sz3ZNv/mrqUKHlSml7HaqR5s6SLtoDiuHNhdbxpLNRMBgA1xIhY/I0wqerCIDmVgu0MxKJUFjAwlEDvuQ4ghwavLpDw/oFgCmQq//OExDsnI8aIAOUO3SMHG/RI1XZZl9ZQQ2k0Yn7TI+LLN3OlcyHkc8/aignrpJzVJFQBRoDhizA+AaIw1qo6aeahzsv//////zvnHZxxxvU0w9jUONLOY6jo6xY59+QMMQ82/vt/1MqedHTklE26eKI1pTDSE0xLCzRAFac8aCKjMJBY5nGDWwYGgOuhobd0Ohn5ysUCsicV7y3JnHCUS1Za8LXqVVOc1P271M72XOZdqzvO8/9d3/83hZ/uv1BU//OExFEn00p8AOaUvY9526mToufRxaQUIXQShtNSiNfm1pk4sspCSj0RNkJCdjzzlf///6f//////rU06eeSISCcw+GJE5CYLDksaaf/6BRQAMAd8igvNOuj9WqUJxzEBr4EIQmBLbmFIGl8FbC96mBgaMYFoExmAdXFbB9VzgXNPFxGsRlMQAumI7BU4saFUrluVXr2csa8h7+X/u9r9f+tf//+f83/14av5Y9txtaUKgG1SUYOAfnmGVs2ZQ6k//OExGQmi154AO5OvHBwseapxhMk8413Gw+SLf//////////+YeqFGMUxS42UwiQG5MmeNx8wrTG+4mRe+VdFQSBlVX36vRx6wsNjgxuGlcuFpLWzBgNM0x81i9gUQygCzDATQePawBdP2/MrHADIYOKNMKvDuLhrvc3HXyiMSm9v9UmVLj+v1zv/n3v/v+f3HeOuUNLrkzL8GmOOyUQFBxx5Waioy0NOLj6nkxMaSZ1nDgvHRGHiBZkT/////////OExHwly058AOZOvP9H//s508yzmIppprMpeaWaP6+gsA2qtV4utaqDY5MxBYMEHg1CGy2UFyukMFGo50ozIwrIgaldHgYIjSJDFhTJHuawioDNgxVujwNbSLeFsUH3tv+wyU2eUNubi349qUlfHm89Wf///Pn9wwrzVy/b7DEfjMCNMijMG40tLyvne7+Hc9b5vM5mkzxueQc90VECQgJJhg4Pnv/////6f///9DEXnqYciZW9ep5m///9e/on//OExJcn1AKAAOZO3J9XMNRCY1qa6o7B2Fd6DDZDdhonNQ0w0xOhTJWJyWlF9TNvDhjFQxpsbrmPOmSAr1jShhjEx0IgKP0FJGS/8qm5RSxtpcNWsrr+Q5a/uoxS5b//q3xR/j41K3NCulwoCrFuME5SCBIDz1PWHf/73fecv4e85kXCkcLxWx/e8eJDb3754Cn///9SeiQDBq21lxQwz//984ZSaord3mUpMuWkk3aiQWDG0DtWl8eUTNCfP05Q//OExKokIdqQANaemNmaQ4X3IIh4KpGm5mRAIi0LWlNhAKJyskys3SszQDulD35wBDsZ5nXhuNd/6etS2fzp7W/3T2qtLS24m+TrRqXsjUHWAU/BwB4Dw8Yxw044ueNziKIQOIiUPjhYHYQDIjDhh46YezGnGoZdf////////+y6ueel+hQ58sWqZ//+zGVrTEFNRTMuMTAwqqqq3lvroA+Mgj1l6R56QOV2wwM/m0acIuFhjAnEiX8jbME0V0yK//OExMwnAzKcANZOvKJbmaWAlELrCnZkHDzLJrbwLCKWNt26/79yym3XjcxZ5gshgtNIGa9Q4KpWJzCGRwpJxAAAFIfDkbmbzr3v+/Fa1b0j+Dl6wQkxISmQ7IUSdqXHNisJwIff//+w/dX5Q4IF1aTJl67G53MUTPjLrzqq2hJFteRoEGDYJR4w9awpjXp5axowTrN4FRJiUgQCcFs5ACBu80ActCs8VBEkkyR9ei1QuJMaKMQHaBYsrLeqFZtb//OExNcisd6kAMZYmGJubnejE6/0up68Tjz9YQBLHfYjOLkbRH9CVPIJ2Lg4QBiTOkc13sDc2es0MWf2U0MsiMkjUxZlZqXkSQJUS4colI7A5APwEkHwkgn4uEcYAsJM6aGxkaJlxJTs61q////2V3WbdFJdalrWtV0jI6g6kCcmaU1L1poXctqs3b/////33ZFF2UnWk6lKP1DS6csjQWyUI2+zZDdtGka2xGSc4UWhDxmORHMKrtdhHxD40gdK//OExP82PC6QANaa3JeJoY6ZNm8M+IVODDxoB5xYBoyRecx682IE2Rcui8y+VCi8MPSuAmcxz7r6QbPWuHWqFU+gqtm1tMIacyqMdFGsN0NEGgSkxhYViiDWYT5zw16fRH8CFiaeJIuYlVUX8jKcgp4mwOY/C9ulUq2rd9OMPW/FaE2f/yyVnTqETyxlQ8TB0RTsWICodQ8wn/e3/96FDViFnVEevia7a/a0PhRRdVellwUhYNIWECEsyaEoENKQ//OExNkusfaUAM6emEZlQpxB6XMtQQBRMZ0FD7SAggcFEAiTJzDnTYGTEkC4YhBmNNmFGIVSqTKbrVhMYcB639mZXFX+nqeVxiNSrkqiMZnPHmJiO0cIuhyh5lo3BsDFGBF4jkqZGSzdBJzpkYnUGSMzpgXy6bFMOeCsiDD2E1JowJCGUPZE4YWsav//W/9Tf169dNTOkyCkDjjAFEsG30azDCoha3/o//86Io4rFk3UzhCzfjAjdJ9/K0dzYgmp//OExNEvQraUAM6auD1rOEF8FHlH3AAMUzQ1ERq6T5nRiRKYUCCBsEGkU1umBHm0ErWQcCgA2QoIRKXvyw4tbDUhcCV0uVBLbVnOVzu+XY1LvymI1a3EHBcmevNzYi4tEzi/ZLi8bEzypY1UNNNtcXE5KKwyAQC+BkLkwTwvRoSCY57TnZGNT/+d5hv/7XohQ4wjRehyojrPWhzn/86ZIC586pJH5kgBGSKxShgkya1wrkjEAMoXyyCSqPBYplLp//OExMcqWy6QANaUvSwh0AjP27OEWxWe4L2igIDRXbnRQIbYSlbDaZIdHHjMBUkTTViuFZ76k9m+3cM4/Z1q7U3+WfO8zov5WgbsE0jK4rZxHhNVq1Hq5uxGLQ+I2C2UAnHAXxaLsUFktQ1NO/7/991X+9dbIjmPNQ9CJ0XOdznsiHaPnHIswjmCn5aqvOxGVTCddq72w0chIyGUs+MYwDmTox4Vlg5Eo6kmMNjSk2fNOl4JPReBlNUFggq3ZiwE//OExNAnEyaMANaUvWxEuY2PAVwANauFy4dEQGMwqGrD3X8arq4Y25ZhX+rv/5f3jfgWUU8seqHIddJQBxqt6Vrc5t1B22WpzKZ1Wx3juNgxMSQbEOSyWPrHW1lfT6r+f/+3Q356b3//z3HL5s8klbnuhtGqzW/D+Puud39bXrPVgPtPvr///0fTjzcYgIWZsSzj0UPHTQvm/Txm1MU8pXwGbSIt7jGAhHBDO2/NKAlLLJahMNARTwUOBoM06xTZ//OExOYr+yqAANaWvCFEIEIbBzFOxMZZCsT5wzKF/b1HIZoq1urS6ymJdju3TfV+M3q0rhVJEmttXcmkynKyD055jtMmocxzoJIoJBCGgWgwHQOxoJQpLFWMJGsm9lfr9G19r/oqtz3kCpqMWlHKnK6slCpjWzUZ3OYfYdCosBq7iH1BMVyDf6mOQE0oELJxxUhq3QgLTVy5rsoLACEWqtDXCwLG5iS1n5RkNSqUCysDgVEjsHgkhQONQiJSRbS4//OExOkscx58ANaOvKjCWGILkkwFfjKi+T/WpWoFWq8jVJW5Kc8u17OuVb1rPOW+a5BJjvH0C1oLbLXSj5j3Ta7lvlU+bpj4CSQrh7J7jz6ipj/9v///vmPprea//7p1tr4hroc9rHfV7/dFXErvbUJPJDTkomLzIWisZyX6f3Ag3pSGT/fcfqqtDrKwADDkhbHgYicFhWZEC690fSQDBhGGgw6CdZgwNgoILPdlNEuLTT0Nl1W0ibwGEDK2pMpG//OExOosiwJwAN6WuRYegaOqUVAmWrx8G5pqyyUY17ncbdju8p+pQ97er38s6SpTY61btY9dq3ez1VaLOvmOIhpY455EEg4SCMCoWJFhY74v7/i/r//+Fq5/uLj/mY//6kkg6OtVjnnxi4qqOtN6/mxcxF//cXrXrMxZpjSlyrqbtArmh1zXCaa6WNXVUBKoMMFBUEpo8mhjDQKGQKhCzpQ6AnXBgFAQdaxDsMoIUcn9p2klKc5uRQNUXzAaSNEK//OExOoti6JkAOYQvFpFoQDOCtckedJKUDBZ30+53qdivoUFmbWDVYUKSRmh/GbdifWu9VsXcv1jU9dXvLu3z8Zwc7lEmR2MAwqUpS2Y6VtW7Xkc26I++7fdF+7LWu+m9MyUVDUXVv0ekjkstSlKiZZksrOwizSvmc1kxhrptvi80wpYoYKDAISMMh01JBzQgZFQBHWsFzWSOjIJiatQxPSBuKczuDmvAis6ugRjSIUqlGoIJ7bjkqgMzUr2Cnr1//OExOYqG95MAOPK3TTwu3OKdVlsTWc1NAYVLRzjttI92xhkjVhwI0GHE1O4SYrSXNonxSU0if+XxUhhxFtLLLspqXF/1d9+dD7L6xT7876zd29bk/4/yq+y/Z5lvm12/eO3zs3/yaKdzUTH2bimFTTNOS7bmI5rq9JNBTNFPX5ZvNinKNKuSkga1VvmKwCyX6UyWDMhUoaerGYdy7uSW5iBs43BWZQFep3jdhwVzMuJ291HbFweqGYUMFWxYT29//OExPAvRAo0AOPM3fM0DMt5ZM1rGYaLErx8+9cvoLrESz7er0tM+qyuNo76PbfvrtCoKWvUC4xYUIODUHxWfdGY2tQCTuXsi9Jn/alGvOUytJiCGw5IVKqm58nPIvQoGHY2YEtyZhAkxcZFOQEQp1iMLaolrKrEFStDMM4bfkYEmsbVE8AUCXVbK7TSqXWabKmlszWqsBd50WuwknRJlzGZXHE7bZiXmZzbWVhUPQ5VNrjPSLXWqWh4l1e0tbbf//OExOYqTBYoAMPG3D5ijYkxaL9Ns16yZ1e182g6q9tGvBYn92c5OUT2bcycbuRIzRWMSL8S7a5FGS7wq5a8VH3cPjGyieFiUJmSSSZ05FrOS6E5so6l3aZbZV/jZNenV6NkuYmijYJG2haii/DfmyNcrSNWhNK3lmHBSECiFlGn5irg4paMBeWVKdP5llav5XcOc5hnhE3oir7ujcMAhAjAo4bXRMso01bxpNZ9NrKsLdxV3Sx+Oil6ao3Hle3P//OExO8uFCIQAMPM3FryTzO1M920MMeyRHry0KBlBy1I0lzTDcYf411ofKwtiq5xh5xVMKC7SkNDQcjClqPg5WqODR8pN252IApZWrqNXFrplIaomyh5V3dKvLNFWVwtItEm0NFmrc5i1uhYOTMSCK5IwkdvQiYqEoq4guIrGWJrG0YNHHNKKiup+FX9bxw3ud5unq0sThc9DL6ikIgkGkKT5EsVmXEua9p85SWmwslDSikpal9WDWqroZoqKprE//OExOksDBoEAMpQ3Vh9emJMxc5Uh16sNmfXPbLFiT7mG+aey7uMyId1suK+FydoHhYim31sttNmclZsUDyi6Rtubo9JbSzuzGVSZNmi92295e7GvNCWdrNl4LLom2JeUkX+nGz7/79FaDnj7IyUurFrE8BEwVUpGAxLmsSQI9ULT7op4fq5bq4Vrv8wneVpiISqX6t2ic6VRj6Wnl5tAMUQn3CkogYGb5A0gJkQVecI0LNT9UWjNOSBtAeUFUEb//OExOsrZBn8ANJM3U/oKrzYQrrg0sjPTQk754dPImI8yz4zdiEUA6ZRu0qdvEllEtAvByUUyGIMQ1X0PLFns5E/bIhjlKfNurdklUiD/wqlOUYxzyYilZM487bgNr4DXPWk2VF3rWd2aIyGLkhYxtd9Bty06sJCyK0pOJSzImJHAcZTbhVMbSfZ+HdZ03MZTyfnLMzuYu1rtXzZMEhsSazC3mXDAZwJgdgAspetY83UvhS+UWmTjiggCLJFdAF8//OExPAt7Dn0ANJM3ORu/vkJQJIWQbWdWoWjS0Oa7L8oWYddJunu08od2J2uoNsFd3OtJupR5fkFNJH0TqcY9eG25K2ImRZRy6Z8x6lKsvyhWUgspi0elWIq6BfzPZ1Y0qjPeCdzV3Jvs9teOhxCWnkdqs1XXtD3tpVOXpQN8pyNMosbU/93VbK3Ux7Oblssu15blNWtnzKqzoErTj1hpHihKpIiRLEayFgRE/Q87eRZRkwwitpsUsD6Ao1hCUQS//OExOsp/Dn0ANGM3OsoQFCyTLGRNop5SiFb3LapaTbCeQrpQksk1tb5Nsprqs0s1UXRkRPZq4xTyFYjJYoVnqJSaOsoVV2tYypJTn4ZJNtWOt6lTj/k/pRg+W9066TkaFjHQ2Mzqq+tPZuHnKcYy3bu0OpqZCVzhBzT3qxlUYQx0Fs7Fh8puJWV7U2e0YmpoOUhmpseEjST+mqxmlMvDaZ2YzEaGbnD3lEq1+PxIX1i+Ubr2DpVA0dEe9MWyxoI//OExPYu/CnwAVpIAQoBg2USOPBCaFB9zl1ghierZxGgoH/fefl9+GjjPKgQOYAxbcFLIvKY/BkqhuUOnH6R15qAmdmeKpkoIZYq7leA6uNLuoOu09t7CQwc3sX3cqPI/tMMCDQlxrjmL7Zu5k/W7TxC8+s5R5QmlkcMQLuWxm1PReQ37s6791y8Y27r7ydtWZwqHKlBSWYGqP7GasplMxDsj04PNV5VhAcP3q83VnNRWH4u9am7eqBsHxYmtd8l//OExO1O/DnkAZvIAINibJVb2r0UbcWtyKs6kdBFKZ3K9yluTGEO2otclFaKUdl+bVNSRCvhLsKkXt6gDK1WnKrvuBIWRqWOG67HFlvfIXDVHH2tv+485EaCXU4EoIY1mYSxcYyidQtBgBDaAWMu8y9pyn67WqeTLAqLQ8k4QhGD4nlQyHZcTLngvjMx5Xg2Iw5AkvrGhXWlUd7E4QA6HZDNjaMrLBIeVoI7CSTyoIrbBaVpFRuNRVPy4tvUc3hx//OExGQ+fDooAZtgAB/PBPII9HR69N6tGdSemSrj6TM/MYjcslkXGZ+tLDFL5S+5VxheuMMaJjxLXNLD89IhSKJ2V3zgOzctnYiVxasWIkrxooWQmCzqKiwkbexk/x5t1cVm+UrD0g8ZKDg7gUmJML6Q7c6JxPuQu2rW1aU/HPv6+9W2aOHThyYew93nC176WosIC1f0U0Jbrig3acPF6srtMU1tkQg/pioGFFrWa11rnyRhhC9r86c2Iqfnuyhv//OExB0tVDp4AZuYAI1RH/+UBOhTFJ/tUoeiLjAGcHY7Jpp0hzy8TJPph8IqQAQAGViPA1XuhzQ4t0aYGOICk0iIEXJggnZRupipTLaQ5hAR3EqmXx0CTEaAMMLKQubJ4XJr/5ogyv8ip1DfVp//76k3Za1a61MlWgldCgukVCbOl7///16rrepKguo+6drGjy4xcK5ZImVSKFsWwlC0YF8uE8Ti1YJ1S1VtGEiAZgtZpJQXmMUuhZ8WLNZ0zA7H//OExBouLB6UAduIAf/8M3/5THea9ZPpPmJDDZ6yMIqa2RFoEGmBm5JgLQLKyCmZDTIriARPFYpFIWYMNFMxNBCUPWIkkmsg5VRrYgZrWksjDZ0EywMqZE0al8ZUMAClkTroC2F4ySNiGEPNeo1S9////X9fWmlVqS//63dBTG5lXWlfTqVR1ujpuXEzRmTRSpl84ecwoFQh5iiXy+onz6moJrTdbz7MyKJswpTFd2n9MFQx7Fb+xXUoNNYj0BB+//OExBQr7AqQAN4a3eKZ128iuX/gyrnefda5Of/3ZRrf/1Zl7v7btI8sc9KpL8sW41YMPl8boquTGqPDmWCRUMc7WlCAK1Xzqyt5McLGqWgw/H78gw6syEGHmbmJeH4EuJA4mVKSHghNEhGiIgrOl97rV9v/U7+/nH9E3e82X//3roJLNWf/+tTtpejNjM/SrQaSZ01JAvmBuXzY2SWaopqvrRrMSQZWraBoX3HpIECRJ2j+HnVAKLH1pnSZ2SAL//OExBcs5BKMAOYa3Tb3+folTCu4b913sy/8U32mY39VQKF179uGJSJTk921EGLpY0k1TQS7qVMD75k70dn+407cVuyqGte1mipNayiUb3/LuNnnf7DUf6owMA5QVclB8LxNA9SgkcMkjMTBM0MygYlxtMxrV///petl9Tt1Gxp1P6n/7Lsikgpf9v6vWp1u7T6aJiYsgo3OkqSSjqlGB1FF01LU3fdA+PXcCf9YLF0WQFj8HbMDGU5QAnyn6SsM//OExBYn++KQAOYU3YIXJZyx6h6sSiz+bdkOBZysYEoxalLbbAvMaCq/LOVRqI3Oflp9oE3/NSp1qKZx1Em+wsd1Gqljf7x3zv87lzf/lrX/yajQsGsg+D8KQfqMQFTxYLORIIkTx8PiMlLHHHTf////7JWjUzX//+r2Ot///T0SYhlHUxnlEYhOdihxAxjGHEjNpKfniq8J7ehQAFJpIIJ4wuVJlmBBAdAEpZBw4hMrBA4Ez/fTHSAQJEHnzMpE//OExCknk+qMAOUU3YgYFaAwPG0YFImgyCO5bJGxiS9qJMkh0jIm35dIiT91lEgpX6Ji6eii+tSzTqMjpfTQWIECwRBIQhJAKgSEbzi4iR2UFYuRExrHU//////poceZf//s9+Z////d+iKu7k5rnIPh8aYcQni8weGoTj1ir8YJJeqOyyvEGZhQhGoiKihC5G6IVHR0chjwAh+5ndHQFLubcpD7ByMnyPGOLwBDMCCgSUrk8iQ0kV9ZATdrTIv+//OExD0mg8aEAOUa3XSYQvUQ7RWock4imksipBEKqKTdRsg3Y2W7EkJaFxKZsaqGGCfBYDzU5iSqSlUUVKb/////3QtSMfUkn62/9G7t///7t3QdbpGx1j9VaZuZnVqHicQTgKNl3/s3XGitQor8HFkj9T8mI4cpHiEIucFNmdiLcINoKOCmv2/WYEeFwA2yVMS8F6QMMbACgFozd1F40S1mpp5kV/UZt1GKmWpExMK0KRNGilaLP1Jr6JdMjGQb//OExFYlI8KEAN0O3QjBsSDB0gIwHABhO9Zr5hw+NCzHsajf///9NrdqVOPb/z72W6uY3/+qM70WQIsWOYgk0bjUuNGKKN0FZaTGioLgSpdiBIFPhSGg9JNNzWQKKgVmh3DH6kon8z3hKC2cNlLj0QIXrETuR5lGKuyn9Wto3X5x07QoP0vv+/VX/eyM5SKRVcOfr/Me/j3Lxm/odnIfXtodie//P+0REPfawcL3/weQxyZPYcmMdjMvTI33xBYX//OExHQmY9KQANKM3fx9jDydZ2aCFlRkEPaefIbCyz7LBgEic1Qbl0n3eYRwRAZT9HiKRIRsPOjaTnvowA8Cc/43ep7z5BOcgG8C///////+f/+v/t5GNf+fqd1f9QrxailGZSM1ScHwTBMN0kRChedeE9/xcnLkSEnAcDZY4CCFQPkZVYDAGDCJznDOlAQQrtF7J5wxtxs3lWUZcmRlnMTR04jbUign3LJ50c0cVoUmcChpAnJGKIqBRERnGLbi//OExI0nFDKoAFhS3SecCB1ozaCMwoKBQxqOZaojWQn////IId38////////////P+/f/+vx9/P/p72/+d1lw1rL67jHna3qomntnNNZgai01FXTYwQWtogx4GpXBhS7m3Q4Fds667m5sjexu40CM1yKfp9u3EYl2c7FU5FIfT+0R81wZMx4klIlaQWfNmd5SXDJVtY3B693HU7Yc7C5RmdvfMODyXcU5FZtfK5gbFO0UdN72NGj1UH/////+vv///OExKMmjDq4AAhe3P///////////9Y/+N/+t8/4/+K2+8xq7njP9KRlgPn71cqB9iLH+MYxuHuI2OLOhydVzw9ptqfbMnnNnXdnVpXJYnZm5vVq7jOLC9T6602q9I6hItFRTlYFAzKFwVKhYX61auNLiZX3Vqy92ssczW8Y088SKjfOcNrvZcQm9MnGlFexqhQMDE1KImImKVC7Z25dQZmFTsUByYj/////n/A6/////v//+ZmZnJnfn5npnbWn//OExLsoNDq4ABBe3Ht38nPyudjtUrCaTkkmRrZccxd0D1J2vUyvmutsKWT47PVa44bsdEx2h04q4yLa5QtUJD9O2ZHxLasXgbIEQOPjjYfyQ6tdODES4ExkuVIUnK0sqVHritEtaafBc0PyuFJUKp3GLFxlAXk4nnxaJZ3LEApLyY8Tklhe99o4D5UEv///y/yNFf/+f//v/6vlf///vdqatjW/jGsb1ikODnPkg+JAlf1m1AjMyphIeh8JYa3N//OExM0mFDq0ABBY3IWTUWNnELepJo7EhRvvD3RZ+J81FGcC8dblah6HkpS+Pzugq2dQ1WWw8natVLOW08XKMrk2iEeaDlEUBKHj9DTdhHDBnTirPxOMjxXw3rk9V7jFRDvJ+lgUi5XZeENZUq1qN09ZDhVCqQKlHwe6LcWc7XiVfRUSgHiIRjgrFKyPVVDf/////N//////////mZmszMzuzMzNp3smdmZiim99yBmn3fgsJB8esum+v7rlf56c//OExOctFDqsABBe3JlOZE4R1NicLx3AwQDB0qqDMeQICMvIpfkzSuo1mRHTK6xyE5aecWnisQBLRtk44NnebpCZXOHeXKViFG+T4GjNCIRBQBBJpQfOC6iROlcm0JJNL8QNkhNiLiGWS8el6AxPz1aTsJNOPDcfwOGKEw2GV9O/+Jrq3ZCMQAAwauQhiXkveh2v7Ov2VfRr9em3Zd+l8f59myPV/Hh03un37NmHkJqZHVmtjXByP2ZTSkqVV1Lh//OExOUnBDq0AChY3HD65PF241VzO4zLCtfNPMlGKA+VpRMB2kGN4xkCe4P5lHyX4fw/ckgLmW1PJRbUivaHLTdV9CUT5AqZ0kChTKkQ5zWW96xSYj4nYrq1oM1OP1EoFG1VXLApWFxueiPhq+KqWZTN7qMwMinQxzVBfVCdqJhK3b5cn9eO4MCDckJSSSY1hKphKve9joVCCjuO/b6Q654UIDkSak1jLOawMMPJsNxLCMA8aGjcfcbGE0HzTSZi//OExPwzbDqgAFie3LTZpqobp//6+zp//8/Ztu0feOis3Q5OB2+/UtNI3XviW4zXYisjdaMi6YpBKLUF4FS2tv1gyivTcOjInFMSn+LoAointVrLi662q1g+t8D03rWcm37F+EpTZpcfWOl1a1y1+asuTH3e6mVTPcy7WYFTLzS62NHT85Y6Eo+/Fy52CPNr35kLtlw1FU/XEf6Fw6DDianJxj0TGGwoYIAoQCTACBO1qUxAJQgQrFiKf5UAcDSm//OExOEt7CqYAMHY3elUfgJFBlhWwhUvgQBgZ6wAcVBu0ZEsjOidx4My6s1HyNNN8sld9jptXqRrskU3U7nzFzBJMqkHKqJ5jhTUqkclzSKZcHPLhmTRHgQBFicJ4cRKCE5ADChNSfQToJLept/VuiyS2SQW369LU/of+q961m5/1vvb7IalqQrVSsklrspGySzQmiuRZI8cL5kTaZmdRMFa0JV4W1lURUWECPMuC5sM4u0wCBDDRxPRTIwcD1zQ//OExNwv49KAAOUg3Mx5nBhURPza6QcXKBryQZQnSGjHhyAGbthvBJIpEEI0eeiPkZLWxZJhPojy1VRNbLKAvDcwZJEEgA4CLnqx9nrVpkst1nDIaNJZ0Z8XMaFw6eD9gUjUqmxkblEqppqQNVIJ0kX//////+ZP2peoxvrKvVP7Zk/Yyf7+tlf+1TrLMrFA4cOETKBs6BkXzZTrO0l1pYhapWtGBB2UdVUErhlH8yQ+DzTvBRUTzbR+3CMaBlku//OExM8rY+58AOUg3FSkWAwh4D2IRzRnDMlxhgLBA8ZomZJh/2UuojTaqidJHzBNtNAiqumQpqboJD+GWxsmZ5GUWZc6dJ1SqRDDauXRwgTpNJE8Ym5GQdNQ9B6lxZgXEzJBT6X/////5l61t/6kv1t1P2U/q/db6tvX+zTE1SRM0zMrMR6KM1jW5MRWiZGDCwDq6nbQpkUgbcwMFQBVAUAIxZ10bTBuDDLcSTAMDFVWlM9IANHhLX9FawlgGT1A//OExNQp2/p8AOUa3XBAh0xImRMieQJAjZalmo6DbqMj+tiye8pPSXMmS1LLbTyxLSMQUkpRbfpkjqqIPNEjcvAQyGkDIUn0hZrrdSIuZRULJuZjhdr//////////+vsn9a/fvQd011Ntupm1XTukgeKSjQnSmVymbFoi5MkUMmMCKE8RQyY1NUFqlopzP+tAGgSYLLUbtBaNBQX7VrKApMg18PiTdHjjDgUS7YgwUwcEImAiB5I5QBKHVgO9Zs3//OExN8qVAp0AO0g3RwTAA3Hyz5nDUUy/d6trn/2hsfv+3Jv//XZm/v9fQXsbVV0UVXHv6x58/v+8rUmGH9xi+Va3Kg9oAvEEDQtuXiJFUxmQ6RmSJmJSSQMv////X////3zNM51KW6CrrQqZPUy2TM0k3Nzhgalg0Mzd0mdSqTOtaSJ9R1EyNyWRIwmFDrLgzJDhhl0pDRJUqGJAi4fT0V1cUrBplKPQUBUwzZI2XUMwlA4GAKj6AgAMLRzMPai//OExOgyW/poAO6g3TEIC11LRW1IDFUsTAUDVjP2KCFrAAiDkPLxeHKDS0VJucHyfaaqfasoqdrHCfn0KiTWz5RL6BscNgbzDwgYsopFylQNi0mkcMyZIoipEyCagHIU43nUmL4jBcJxDUHKNzyka////9X///+26ZANCmbJm6ZmtBnL6DLdmW6LGzqWp1OTSUNVmg7y4gyG6lbImakrk8e42DJcchUOQayialwvLJJaSJyo4kYQ1RgCjAkA2eJz//OExNEyE/5kAOza3ZgABxhmL55mfhiCDpZhXpMA5hsHZgZVphwBo0BzmtwGgcMMjTMSQELvuUjXxdQwXJUvqXOVH/N6Nxe7+uMxaavTL2Pne/eNrNN1nib3rsqFs/orjSQ1btq1IuP8SRrxK2hG8Ssyz5dH0DJBWBAyOXDU1E1HeS6kjZ2///9X////76mPE8ky6gmakgkbJLrd999ugtJZdNy4Yl4kCc5fLUEtEz00Ek2UmgigXjcxJYYQvmLI//OExLsx4+pkAOva3I7EzVSFA1PgwFH+oWVDkFwEonLFXmAIBuaAAVxghAEINtZLAACE8waCHTE1A5TGf8hAFFgAQIB+YggDC4XphuQTxUFIZbbzlEdeLHtivnRP33f/ne1v8852X/zfLsOUuuZdiNvtvCmaS79TG/SzENXu91u7Y5h+sY7L9500yglAE8LmWE08I0B5EAxMTU6Pg7zaup/q//3/r//9VWq6k47iePJZfTKI/EktJZ5NmdlVr0X0//OExKY1rAJgAPYa3VI+dPHjM8bGJocWTigigqzo2dlrNUx5ouaDAj1JAZJfKY9jIurNFGCQ/HDYkzU0TTpQMVAdoqyc5gHAQGm2IKYCQBKX7MmVgkFQwDydzGxAmMCcA9EwtMsMAABDCdBwQAqHrpQufUkYGUMHFXhwp1a88FBbN72WvfdJu/hXy1D0ru4dx25/beOs3bztfnySzVJUuZ9CwNVmPctSiht2db68dW3hYswXJLmWGm5AcKHPDFZW//OExII8bApYAPak3CcICSodKThcQMUhQxJHFbrdvV/12q97L/6u3u7IJ0zpFiKkgWCLGRSK62MTykk9L/ZlFFJa1l8mBly8TRgMcZEwfWaWPEwaomxPk8RyJKoDnC1EVGifKhOlUipdIsTBPJOiYmBkUyVNTAvFJwcOK0ViohABdCw4gAAwLGE4ISMy1A0wAAJQAZAUoAMwyNc0sNAiDBOKBZWyMwECcIAiXymfmRCBGQyRiJkoO3RpkAKLGIgq//OExEM2i85oAO7g3JP68/OPytf8uYTMCWsf1y9F7Hf7My2L9/u7Ms3zKgdJkK5GmWLGrUqlnf7VqzUssc+liM1Z1cGOD0hBgAqGMz5mRIc4ho76KBs5o6C9zA0QQb/tbfsr/TTTfSbrV03RsiYMo2OnlbpoIMupau6k1IdlJmRkiyJFzMkHTTQOl9GimtA+iZlcpEEIAaqQNDItmhqBbyNdRk2qkXzcELbGQoYTyBjQVKCu8qyUkACMgIlXbn1P//OExBsuE8Z8AORe3L8pIgBFDNTkyBGClR2IEqRQjgs6Ghk+zVjcRTTQTOFdPzFtTVPbkkeUaMZmAzJtMy/Nlp7KTb1mro+9oJMlG8gquEpIlqXt4Vf/7bpTWdZ36fGr/W/f6xqjzW8f41quNY19/Ppe0TMf3xW+63pS2/uJ84+aXvaBEpTGpZ8Z39Ypq+Ysv0/zfw38D1eeBNPt+8VtH8HDU8w4nrfkLlqq5PZ8yawCqwODauwFPtgMMJtu9/7l//OExBUtHCKcAMie3bsXsCKXucSMPISV3dtNG18n9uyBhQ73/90af//xr5vrc9pbUzvd8/4pnN6f3xH1bUCPuJeJiaBEc77p/9+9/DnpNDkZzcMhZOt3FUbZHniYUighyVVjI8eMDJSX5fzvIa09Veopzs8NRsBKBcFiCo73akMVCnVedw2d/aG/7HH8SG5qR1DVnjx8MEGPiHCpncDV7vHjyuIEBOOGbxw4wtWKpQXAEcZXqVv6/+UWRRAwPZnz//OExBMslDqsAChe3P//6f8+nP////971/r73neP7Z+a/0r9+lolvvErx48fzt0Xf1b2+M7zIrNvLyIYp1K1K1WszcsNzRKjm9QRFSj8tqclZTxYNNrGnKPTmYUch6bRD4eKJL8SgkbehLpwcTiJeq0JWoL2BFs1aVifP+FAb2XCiJaPsmLdcvh+I9Eo4fipQqQyHOMwkoDkL0WxtdsEcWxOsadNNiZGxgiIZZVB////z/r7Osy/r//+a+q/L+Nf//OExBMpNDq0ABBe3O9f5/z///im8Z3//9/O/8ZziNPR7Fi1rNnWc/4xvGfi1omqyZxNj2kUkZivJX9ubdunrhInHCAzQn1Xp1J9sTEhfThLuchfBzl7EYSxbHpyst2M11A5RVAyP508TtRMJPD/XaRgIShbAbKqP1XyFwPViEbNM8KFxG/ZLynKTFcHDCQ0IOC/gIEqjyZWFmQlZZGRYPgGPIfrv///+WeZ65f6///8XqL//////X+9fFvu3t/9//OExCEnxDq0AChe3P+P/jH/rrOsPa69ptZ+c5+sb9t51ryUr7ZpLq2Ysm4U0SFuA54fx4UKLEROm+jnAWjcPRsgvzGJiczkznKZhblVRnUeZory6eboSiTsjjCgRVUq1TDVx4liw4ixHacamjGghyhLseapiLxlGEy4QoSYohDifPjpM9nVq/AlZyYG8Uv////+38ul+3///v////////9Z//+q6+/r///2tmvxn//U1u8vLXWvn5rrG8wI2LQo//OExDUmXDqwAGhe3F7zwq0rO2uD6+YEGE5v8Unfv4GIEXyRJI6ubkcnz8UKLZUCoXZ6ppidubPN09Ca3KkGI2M/2xrC8pz+N5ToAsDer3JDzsOxnU7AkmCBEeoUULkxIpuPyGjkWJscPRJwol4tnSyKKBMb////55/5oMf5f2v/qX/yFL//74zvOPv5+vTNaUpv////e9X9/mlJa5tK9jRNxfj++t69qWj2eZx2BxjbgN+Mvk7Ax8Sx1YwQm9mg//OExE4ndDasADhe3MOA7jrqWZD4bbidRMOUkhxkKuU5UompldI6ZqMzbWV41HFO8dR04c5TDoO8pjkP4/GFUsyGmAo53BqhKVQxFxlPrlO1nbE1FYlEp4yggzruBF///////uz9v/+V8f8+/+f+t5+Pj/Ws781sarn///N95+/J95zG1DfQWrua3mNrft/XG631H2ysfhtKHsrErmeR/HjKGcozzV7XGrI21pC2rWKyrSUkFHum8lqNXCXZENP5//OExGMnfDqsABBe3HJ+J5rjPYb5/PSLI2x1hvcny0nqR3bYTYR5sYdRVrT8nLfHP15FP7bgpYbC201uJdWwmFxRLXGcMRVT1P5/XXwABFvHUydB8i96V8Py/v4c7nblvMVoiQiiie+QKDpeBDADiPCIifC8RLv93LxaGVHt//8df/8zxzK5bUgNh9///w31/FrlCNJpJsCykt1//3dXZSmm0UcNBSABAWPGCMNIBsI4KQ+bVKX/hpNKFnFnDkBU//OExHgoFDKkAMIQ3UXqzQ5D1VWGaF7p1iyTnFUHscfiptSqqhJV01ztLT7M0ksUcSDUVoFVj8s/kuAkAzIAtsFQBf1tTWxzcGjBgqZ3qFBO9mXdQx94co2VISxVT+68uVKrXqoUpbFpEtCHEkFEB9M4fxxDcC/V7LNpcI2FGhMZztU7i9lU6oULErlYZEOvw3wotLfvMxq5hzxcR+CwQj4nIAbACgkhRDgFY8SSYlOPPM///T/b9V3Znayv6o/Z//OExIooc76YANPU3I7q1CG3///zU6/9k5GTOYpZSQCDAgzroa8ZuU7PBCpK0QudvoNGxV5iQaPAMixbuWopOfivtX1rDuk/HVyyjEFrSi1eC0hxUQG7SOi+jnCoEav/Vp/E6n6s3K8PtdnbmFxSyfs3rGdS/lvlJXsZd1SUuO/3L5bzWNPFJdXuvuALFgamFzgKQiR4Kx4qDwCYizxw6////+n/6TJuxh5rMf/92/////b/9mNGZk8oQqykOA2m//OExJsm88qUAN4U3V19XnzpmkmMx2NDRmElZQARScLGhWE2kNOnWkiQtlWN2NjZFHQTD0wMTAbMkimVQ+YDJNZFSePhyINoiYmyNYxxW8cTo4+R5RRRMA7gcamYsoiLNnD6XOegXH0UBmS6tRZDugHDhpFAjGJzFQ2jnjpUWr///////Pb/p/9tP///7zvNTqxtJM2aorGwrFg0JCBhIHSBMaC8iXQQE8VVtP1bsu0bseshGiBcQqCBXnPobC2L//OExLInQ+6MAOTO3UbGCE5x4BuR6BQqQk4th0N1AYLMSgbs22NVwC/FPRaxlcVpf+pDEt5/172+f2NxmzrsTbssM/Nq4wy3l38K2WX8qY8/m8vy/nbP1t31pwAzoH4kmlh52HAgHwejZR8XjUizr//////////z09/Zen///975m6Ippa5wki0sMkTTRWYQnR2e0KPKeG1vFkZocdIShoASFYEwm8Tnw7QsmnRGQUJGlXkAPWy8kGJMHkM/pn5k//OExMgne/aAAN6O3eiNF521ZXUzWx2s4DHefqbdez+WGorz916Lv/djchsc1QtUtYZzEOUfMe4W8f1hXx5+pRdpf7UksqnpZKQC4kDUkJBFjI8wflBsKBbcQA8Iabf/////p6t//2mGuh57mfzE/////9ZikiEZAWGI/PNEQXEORkRGJ5Mx5p6sesnIcEVqq4K7lIJTawEQtXQqEcD5gTnmfheoA66gJh0hnWVqLDJR8IC6E0EjhSUtf5yASJnP//OExN0q7BqAAOaU3cIRRyKamAoTAb8MPHQ4faWMA5mpyojLZc8IBGUYrMszWAKwKvc+AEwMM85tNOdu4xcRAQQKvbJIcUAAg0gSmKGGkVJd29aaQ8P17jxt9Yyp67WHzn8Op2AgJHMFyk2IzAx0iROlkUmI7C2RDTUkR0hrlJFIpiUHZOh////+tM2oJqKamdZui1kzrKqPJMgXzrk2TZPlsn5EFmBcYuLTZN1IM7WvrvsytSCDTpubm6zBaJYT//OExORA9Cp0AObk3TrHVlQjj7DmkFHOFzORYeiKkcfMlnVkybrSNTU0MhadlFWVREhBxjEgsHQQvU3wCaokf1PNs0Ewmzzi48EheoumSQAAzUB4xQy+dMDPT8cLsOjrw/7I3JQOFu0pufbs78djimZlDDRm0jkFoZBhSHLGEBMJou6oWoU16NzwjDBBBnDWW9VWNgbhiJXsgKETUnNXFFn7s0+b1qQjFjl1czuVLGKHyn0iIFQOJAhg6QdpWI0M//OExJM/U/qAAOai3fIudSIioZQiJeNB8i5yubnlGaHv//sg3Z9ZxmQTLBumuZly2eMEKaSlIOZpIGJVIm5cYmyKk+X2LpMl86eNz6ZgUFoJrXXXQQdntM0kE0zh106i+ik65mt0zBZfL60iyfJ8ulwgH/gYhcXVoYPzygkx6Sbo4GVmKvgGAIzQxYCdzVlm0gJlLDDNilIZX+iAUiBoK9R2jBAgRyr76GfsjJdhudCpRunqxx/Uqa+6mPcm7NpY//OExEg1S/KQANZa3cfmoVSXJ59kVm9q7gJKpWOtYpbz4u5RZ5OlFLHdzUv5h/zMs5jg+w3Hj5iVDzGwgn4HYFYSNzElwvInZuxmapK1t//qoNrQbVQXU6HMmWmpJamrOoImaRgjTTUigYmqCiYZkMnFAkXJA1LhYfNkWWjTPrZ1NTfr7aTts5ggkgo6nWpF0kDiBY1mE1B90Kqbg/OOICDilZ1HuMZB3QRrCpC3JWcsi7l6vIUZR043ZPmk/16o//OExCUudBKYAMvQ3ZRu9NpVEmRMCKTpQDihvcPUNef2kzrW6va/VX1s63DUO6601qnz4zX/+uv///6m/Ji6RoBsI6xBgQiwsdPX////8uLi725nd9c/FdwhkXE9Oxg+5HlwIy7uMDgaLCgoKCKQUWLDZEQIBBgg0sejg+H4oHAeISDcR3e93eKlHgjoty1F9GkazjWPU7lVepqYhz4b+AIigxLWP4TZprFaxuo3Hta1/qSy0NOX/umDu1pm/R6X//OExB4urDqkAHie3P/5tfp+//6//+94znefjxc1zTeP/r69tfVMwKUrDfw6zTW1nOM//dNwHkjyBZ44y708iME+YzY4tTH3NCHjcjF06esD9Tv3kJlTyyq1Kiy9m+daQO9VlsgsTbAajwYlAp1JZWJyIrIENgU67SygXZ1w1OfCoOhRost6jbFwrSFulYrOwOEIgh0J4cCLW05AHoTRpkIaDnZ2dD1e5y0Y3MK73///r555c89f//3/fl/1r/////OExBYpFDqsAAhe3P///+a7194+v/v7//r7brnW92tHt/n5+KfNcz216xIk8WHm9X7ptxLieM9rEZ3JtkpHfYknexEKgpJJM6yhidRzGJgqQLbKb85e3qVVqcb1AxIxTsZ12ELZl8+C+q9dq45EyQ4lB1n86q7PQ0QvDsT7kZavTp/Icoxl6N04z1EDBvj0FsIUr0XCO9jdsauVD4QI3///+uf85f/////9/L////5/38ffzn/5///+t//53j73//OExCQnHDqwAChe3PNsQKYtf/49r4tb7znVp4u9arO8g6eR4dqPXLTRuHDYnz6eDhfb49NKp6f8YtjNALC+HGh6ePtCCWvVypXtE5GhKpIMzkaTe1mitqpSqI/Y7ihyQgnOeRkxU03uFW9pO1ZVLxIMRyJ9QHUEOEWIXCgq1VqSHFjot6ogDf///////uWX//6y///+ZmZ6ZmZzfmd+d+ZmZ+Z+dmZnvlibZzU1ss/bXnvzL638R/vLzxGbksvo//OExDol/DqwAFBY3CeEQyLCEUzpECg+ExxRj8B883RWpWxRmwnrlpKKQ4pxxH0sCFqE0JIgnhy6lKaAujROq6CKtHWJw+bSj0wNoXePuTQvVSnS09GxWHEcWiCtcs2wSgqTQB0fPkpWtL1uK7FVGTAA0DkUDk4HOj8ax97+tVfWnrsr/TQdQTKrV/9zLdyt///5mbTs5a3tX3st8zMzOTM2z8t8zXKRrezD6F1nq9b69M7P07dOuW09CBsbiCBE//OExFUnXCqkAHiY3UJ+IlFq8B0CRZr1pz6stfU5itbNXCUSi0cnIknrDq09avXGXdrstPQnsETSqWrIbq6B60JN5apnr987i67S6+WZOVru15p4bkqUyrPJQ05cKqgrguEZqICUTqns6CS9/uVxxxbw3VrfyRfirY0W39NjjutUQoU9HcbCELmmO/gbzaQ0INcWV68ptxax9ffpr/5tr/0z/1QzMGhqORFAShPc8ff//9K/ZEt/+5rT3oiEHdZh//OExGolg76YAMvO3Xd2YfrQxd4/og4RNRjCzqchImWOLFEPLU0Oocp5s9FGpCNiEc9pe3/aBRVHyZrYrzppxW2jyStZJUgwgJsV8Or27vnytuVp+Mdb1CyTS3E1WgmTAUBAUsvCzEvNls4xaTJiwJpJHFKEtJ67EVkdZn5W3Un4g1xsbeUIYjEDBVyTl//+a/5/+YS9dk77//9v4oevDHxcyJB7d4Q1wz03wdExA1D6ZhzJ5qjXu0a+L7u1ouCL//OExIcm1BaQANtQ3CZPFg+BYNUiVGNLtHfH6/Yw4adaarjv5XZ87yoRGb8QMpVe0mywobe/z1ByK7jpJeybiols4jOegmB2CLnKKSXRrWFQuZJgLi47lW/6t//+4vj5XSqr/////+9+4SKDs8XLavSub/+Kyxcs8OxOIZwvi4wgUMIHUiBwIk8cDDHxhAlY/FBEalQ2hEGGQhNvLpvfO1vR7FMGhKE5oqLGCJKrPtaGdTMZbryyn9HSKlwkQ5Ub//OExJ4lvCqcAMnQ3Apz+NJpi4t9f/FrqjqlE2uyXR7sJKGQdEW71e7s7z26JvV2TXs7ozdPT4xvGaf23BkvrX3iaPrNtU9M43jT+PClexqtqnXmJmasXpvOqbkkpEo8V86rRJ8R3iVW1QhgxD1XBToIlq0xqUp36KTh8sKuX4cCEu16Z+oCwoNRlehCfTqPTJAkCnDqiMs67cUmpGGOxxzIjRD/LGkzTjOShPuo4yZktQtgQB7PVUaCodHWxNr8//OExLo0bDqcAHie3OtTMZcB9kvfJxSHio1tnIQciG7dsbtvokEtl99v//9//B37///1f//////+P64/x/rec4pn/5zT/69swpZsttZ38Vw1a3zX4h+1dyuo0BhbXGI9pDirxzIFoZVwyOe2qjO5qt1Db1uNGZ4k6gaUIlfK9kMZTIRgXAyBmFvMuMTt0hUZDFS/ex38eKpW5WQS5nYqT9W08chqqg60uiI7AmDRK432KyF7anEvyjVN3/iMQzDf//OExJspJDqsABBe3GMvz9uy1sMJ9DqL/////y/2cmf/////oT/T+P////Xfx/64t8119f/H///xq1MXmxvTbAd/X/3mtfJem8dS6w+9Ky+HCgyYY2WCnmeLZTP3GO+eYV0KPPCgnNPdJlpOfrUciHISr0qrDqOZ+qXjDqiFHE3IkXF/HdN6tVqnPCOnwvjmOVcrErilDJc1yyv1YzPIEI0nI/TpLoEaHrJweyhbFqOwp1dLhioqBB/Tr/68vyEJ//OExKknpDqoABBe3P/5//WX675S54f+vzr7/z/8b9d4+a6///////xr+28brW2a1/z/j/4tv7xl7FgvdWver2uo2awWJm3rOIUZi0rnz65yqmVWwXqGsBcn7LQvyGmiobY3bMV9hifqF7Rme3gRsyPlcrkidR/FuIUdTey4U0SFK3K6O3Kp62ltQlWsqlG6S2A1OT57VSsrLBoL8AL8RoRpfJ9GtjIxZ92r1L16bWtCnGzNmuZEUPKl/54ZrVUj//OExL0l5DqQAFBe3IGNYKt1Lw1K5L+XMszWpqaytzRVs218d1Vx8/xUXax4wVGNfNU0TX2tdVte1isrWy0zQw2rrJN1KH5Tm1EkCMoqKsSSKHg1MD4bVBya3Fqt1K8C04c2wsSg0FoKQ9weCIORh6mh1DLRxIqOD5hBBaIAfDQ9GC0vkcWZOAXoL/K4anFX55csUl+XSLC1nbmd1LGrcvkgqIwcQDnNcGoQ1E0mg7UHVJ5pZEVB0umJNKmbdd4Z//OExNgmvDpYAIjQ3EWWe2UuL2YHeyRqKEvXx5h/JEW2SgnRIVpj819RWg1LpI2z9xSiOsp0Uz3NUWfNUo6GcgZ6PpPnGlS8nHQ+IFl0unTRNdqKSb6UhsQ8492ghRSytW77ZWvhdRmGPGki/iKGs0pberhJiRa8Xq5ws2SIBKPVMsDY2BrowkVN+BTIVGWyEMDzEQk1MmOJDeZpdumEBQYBY4Xi2av2uGOGGRBGRF61ledRpbJ1yAkqCjAOHjiT//OExPAsFCI4AVswAfncNIKVUc3odQwBkABhNWYE8aIV+944+zue4uic4GGUS1BVgoFZ5zn4c7aWvNYSyMOIvcwoRiJcdOpZD0ioLmtd/K7qvQxukfyq/EQeSH4BeZaNtLkRBEBk9Tax/DPme8ud9y5PR2Z+KUlmcqWLE4yamdmHH1UMSZT3YUzmO52cv7zWeE/Xqf2pYmJYxN+8nLXfI1SOJGGD25e/9thUYWMvhLoxA1CoSEEQRXb6uIjk0iHI//OExPJPtDpQAZvQAIdt/ze7H3Z+Zv4V8L1jKkoIxetupBbruQziilkfhvkbn5VOuPYpIgxCHIxSrDES1Lttky1IRpgJEGAIdKtcgKBCgUqBFRJIqcL8TIgxyY/Jaq9TIRiMPgwMFQoDQcJjEhnOBjMywDWwLDFQAGHgNL5mcmUV2zSqGqZu7BYapr9RiDzy2M0Kq6un1d2dd8u+tRiLKC5SggO4Avt7fZGBqX52JwYkJDuVyIsPW+2l+sl+FzoL//OExGZAxB6IAdzAASjMPv6pmxezrUrgS3zschiU1ufG43Y/GVw/Hq1ukdhyInhSSiHkObXo1AkMSzf5559/////8Ob3rCvb/n0lfm69r//////+b7hn3usMr1P3C7La1zccgqM3bFimpane87+fe83nn/4Ya/Wtfr6v4Yf27/56/m99xs5Ycw18OXpXUn2uQ5lRTkah67G9XKW3SU9yvKLdDu/T/OYCCI+vLstqPA0XiLdY0ocZNDApOZbqWpTL//OExBYrFBacAN4U3acMLXWO4/r3hnP/5JR93/Xy5z9PDI+bxgiC4lTy18CGcFRq7SpON5e+zQuJLcPyahI4zQyyNExIzh2s3lru9xKx3+R/L//5Y1TRDDW5CIoBkViMeCCC2alWf//RprHnHHPX0/8xFz2XJy7mmmHsbq/VE0I96nqtj69+r9KdTGKshASGlXPLMeyiQQFC5x9HSes9qysRSlWIwJepFFzWnoeUWja0DiyCKRI6ldRx5//uTV+f//OExBwuRAqUANYa3f9A+WX8yhX6/UPXv/VeFc/6y6sf+XQCx21T1nSNIZztWHSEMnyqy5JanrXXbaQWdjUN7sv/It5VbLyf/7hHe4YVhsQSYogsCcapk0XT0yYd5bZaRT/9vX6/oda/t5vuiTUtFJ96/WrWzMpaSzq0p83W7JNSpKf0FUkkkVouYl0+cL5JHSyTXHiaFpsePl0zKZ5aKCCKmUkkgYiUCqatFZA77KA70VY67up2iCBDDFqVmkbs//OExBYtq9qMANza3Yt9r55slo41hsvrMOiLSirKJW2MRSu6JKDYNqyNFaDpKqyiDeUFrjwakwCZBvkwTpcC3QHcBoWzFgwaSyFlDhSzIgxUVTI0LCsnEQEfHkXqIgBQPqOjtJBkUkTB//9X/r/9noomiDoomJajspXUnrOoLpJFI+uoyL92c2NW3QSzIzvosrdCgkYF866zhKmxsms3MCckZF84cJZNIlVaf8yibKNCbXX5QTHCsrbPLP0YUKS4//OExBIo09aMANxU3O3KH9MLQWn+4XF9EsvLAjRN7lF2uRpCoLUdIIyC0CBGl2MioyNMfzE8ZlslALoomA6RLgLIQYYHiLgQoyCR0yGdEfpMdQGWNOYkgtS2D0w4gHR6B8XEpOFYC0bmLGIsMppEXf///+n/R60HrtcemM/bnfV+cfZ0Obmpfbe+j+3U5UdiJzTnYenEp5ymkTPQ9ePqVVGgFQx4cC5pyABgJk+FOXxIkG6l/Joo0JJypj77Ks7+//OExCEoA858AOYU3A+6Ps1/dPV3n/BL7Vcsdxucw79SBdf3cb3nl2AYfr5WHhSMjFNKXBBg0zaavSo2jRZytuxDNrLv3J/HW+Vsf1kQjQ2cLwGQpyJSoLwUxI6kIXKP////+/15pp+aKpM+aS+7f/+2aaclW85v/r6MeaiEzHELuacTETl1ASlVsehQ0aB0Mu0iKaj95jEDrkfew/ZpEEpx2I27Bb9mksmrtAPNuWM2whVDqWO6iTL7fcJlG2GO//OExDQlCppwAOYauHfdFisUx+aZVE7++RFprT5/CbVtblCML1MhjfMzdME9Crl8pmpOHkjRcuoPol1T5kfNGZRdLxcMEjIlmWlRPJ1oq///////mS7mJqFR13F07NggQv9O1YwGiKXnTLquxNUQgkOHjZ0gCIjnSNMLjYWHgsA7o4BTBiEHhDKIlChQBkQE5VnHoAsFPZ01Z4kfhIFF9qUvRY72UuTIM9Yyp2Zik5UlTtY6wl2lMnUqy9/S5qt7//OExFInE7ZoAOYE3Pd+u+qzV7ztFGYOd6zn//3/5rv/+///3/6rCjHYwEhrGd2u/1S//a/pb/t8zvuvRqv5OxFdTqYIjAgZXUWxNf1v/1Kh13oIQw36lQsApadWxEMLAgZa6YaDkGYnhak2rx1QaJIsMK45ZUlKRDAIYnLLIpm1T9Mx6gdROE3Mzhuks4yR9SzMxLpIpn1oEkfTMDw8BGhpOJFIOSIygbHTYrHqarTROG1qFLeyupbVIIdvqspa//OExGglo6JkAV1oASyqk1p1KV9Xum3fS//XVVeyVkV9K6lPbsgg6KqnZE1RdFaTqQt3b/+pJVJZdBWVMKAjE+ACDohDAgmU1OzZi9xmIIy4SS30p1FqRfVBGqR7aeVUvJ6rADdW0c6S0cUgajdNlOc9DVeH6d06Dd2e5ayj07EpdAj7TsOy6VzNSlzzcDdabik9btUsrzv0+esM8IlI3sk8Fvw/dhpH09J2w79Jc0+/V2TsfQotQOX8VgYIdEAI//OExIRHJDpcAZvAAAnqYag8YJeLjyx1yk5F+WtVs10Us9ZoJtrbzsvo+0YgTDyNSsAPO18DIChDxZsz9PnzG9b1nlSYZ1N38qXK7D+quNLD9vX4f+5RihPWxKi87XHDaRYbeq4cORF/1BEFM+Zd73X/vmsP7+/3vn/cw3+H9uW6evnFP7YwsW8/fdhjwxePTcHsOaS0NvqF+GmQC/7O4bcdm7wRhYnUgo2q//////Px//8//+/z80pS9M4x9fX///OExBouVBKkAcJ4AfnecWzej+slc6xVnvvbBAf6gZeZjzplNP1Yvp6Kfp/ixh0NhyUXd0euGtmaNsR4MTXt4yacz8Lwoy+MLkvHcSxUH+rXNkcbPaP8RKz2nvHeTQXcBOKZkLexsVKyMqncn7yKr5Hu9ZgU3rf3dXx391e1MlYkCNW8OFXVZbMl8avPT63qlKU+K9/9bp97xqJiu8zwK/eZ6Uze2Is9BAlon1W/8////0f/U72uNVp19KJnRXGB//OExBMnfA64AAle3cDEIhyvIUomLoUQEgIA5lQPwE+xqlHF4PAQ8sZgFzLcGhBUSaULftSv/NHvI8Y2yPHYlW2L09o8ORwbI7jSHAdO3338W1u82/ijDI5N8JiirFX+47FljrS0Ozz6zvN62klje0bea/MCXNfnONZp9Z3j5xr/0z9bx8+l7//Gf4udY+P/86+9wadHYBIgZlwSQuf76f/s1Z3Os5IgTe6HamsrqaUOYJjBxCZxp2cVtfVIX+db//OExCgle1qwAAnevcVfrqzqQ4jeK5TF/Jkczc+RytdWl1rWot4bgzPr43qP91zSrC9ccTwvfvqb9fj/4zTUbOYcCA7VhxKJRQYLLBku9Yrxa4hYtiNa1Y24m943i+NRre1rV3/a0YUzkVBCh3yuPpl7+Iv/+1Pm6OcrxhPdSVHQVrPkcxhlVm1g9WxFRklfPmqSxbzatvxb05SfpMsOV+Zuspt92MvnZgX8EgmHiz8zY2O3zAKBHK6nbL35i3m3//OExEUnM66YAMsQ3O89Zr//+aZEEXDoIg5A8QwhCcAUwHAeURR3fGzWuKjmqGvlVWJJppW5tav/+41hnFbNhih61/NRfHyvH+w/hp5qTYv5r//X4v662mLiLtS5CziA4GgaZ62Pr/mrsEDoacvhDwej7DLupqGLm4ChXyps+alOu8/Scj9Y9/fvP3evut/Z7/NvGxXmX1IZT8Z1GpVGqRHoOy8tjVZfCLMhlM9bC7Q+Rclg0Pw7ADY2CUeefMHM//OExFsta+KIAN4i3JFlzGxJGLT1aZtJoKRIqsnSHjiB8CxYUsZnlkcLWQU1aiUH9B/q+v9tulZa2Pt/vZL/tT1rYxSWumyD+pbNrUvrQepVLQT0EFJmcrnS+NgtHzE3Ok0UbUZq/0q7DdqMrSMOFD8G9utNH481IxZfKA1/M9arwfv919Mf1h3Kkdh5ufqG2tvb+Gb7s7aw+WcriSwgqVLGvapZe/ZsevXdK673hwoTPV5bMAhaZsZuVcZiAYrr//OExFgn09KIAN4U3JrOCota3Vtx54Xe3lOu4x6QjYspCIABYKZVUiEELVmuv///f+an//7f//uaf9lV3a//96Wcx6puphGMmJyQlOFQdmj7Lnm6Kpa8FLLm8M3kNoWGjT+2mclUEaUkuuE38MnGl29SVADKpnWlrT1tQmqmPNkH1p79tSjkgrcXO1dJRalaPIHWXGj54vLonaw9keR+td7a5kPR/Lri7bFTqCJrVNkhH8XdJOt398y8vPm0K5c///OExGsnfBKAANMG3f/TSzsTVc34f25Qu7XeOjEZEYc0QjV9IR+dgd9GhEGMo9JUYSwOFYhC+nsrRFYWJLQbZ8o3GKR+wrKhxrQV69UICm2/KvL4z/MuVVfnzP8POM2QdUGxuMDnF/nHHEilt4KW3epm4Kapo+HJUsrYj7j/76561z9iTJhi+Msb8rlf3lIrLDOgkuTUqcpGZbp+ZfU/shehk1qlqMuxKaxRjthwABQiCkSjryxioMUKQ4oRoMFi//OExIAk7Dp8ANmG3AZXCVhZpkEFNmwMSCLCoBDm4VASruVFbbGTA3Fkxe5aCwKJS3udXD/wwmnb6s3/+X3PT2IpSVROv2pUEeohWTlImATDZYu2cJG1IzravWK8fCbc63ZzrPDOpBjlUzmW5yGZyEsednEJ8Tpq9z2oc+c1l9inek550LU6Jsv7a0dUVkZDuZ3UEZVUUUmbq9jGc1jo4sNScXEhE6IeYroKu7IR0V3M0WqMSWMggFmstiSWph9G//OExJ8lhCKAANJK3WegrtWbIjDBGCr+nO/BNrDf7YXPfrCb4/+GZkprL1seV8GZkxazEkT0MjC5JgG2Bpk7XzcOcfA/0euTQIWI4BgJo4QYTA83LS8eJNGi31BjS5suEmwJ9iBESwXnHlAEAADBcxDDKZx6tsi/fWm/6bf/+bOOmt/0Malz+vuz6p8xkfPPZ3nqdRUccKj5hjExwaKDcfoYuoxDjtyqOmMgh6eUV4mnYYScGFH3qXeRXPn/dhee//OExLwno7qMANvO3L/+B8+4flOf//fx7hvUH55YV3YSAdy3AD+kBXah+ks6Z7C43Wls+qsvWIQ/HIcaXP29ZzcN18sMaF+KnMMY/DneXTYBaPhax7DwKgW8YEc5gbnDqaev62+3//t6k1of///6/u721v/6fpJpUKrrdTJILc4YrSLTyzU3N0WNAuaf1LpsCEUWlrtABALpqXteEGjDCZB57HeQ1P9/u3Esf/zMa//3cby/v+QbAnKTGcT9ZPnc//OExNAno8KYANYa3OTBpTL6sppnpVDL+Z8elYSHL2pmkGgy2h+XTNzmX7lMLz/8aeQc/V56cdZl0oCURxmJ42PBZ0cadzMyb/q///+/rQ+/39f2N0+kr0K9aX0vWpD37qp9q0qkjE1NU0U2SNjRQab6h3IT+7qXRLOnR0ET8Gaam7rqqFoDBL8XEGWXpiGGswfrDeTX4RhzKwsWvr8IgxOey5DcjEk/OXxQRmOClY3sLS0YxVltLSM+Sus/jH09//OExOQmo8KYANYg3ZSmUSOUvsBhP/fwtXmxvZbpc9PzI8+26jScqn7j8J7xjMiBznUdIgmwFGHkx5MxJVv//+jvr0LItskj6KLdZ71m1dSzaeMUEjZaTHDI1rvW2tFG11pXSRsipF1UH2RdA1Nh3F8kDEpEqTTAxMS8Sp8HA4OrdXWMtJxnWJGh4JAIostYQZZQFPLOqZMWmoehrKrnWfMMOeM9mfam+GKduVzM2qFWQl0LkVAOZHxYVLXg59oT//OExPwvm86MAN4a3BWmgvXrgzPrN1YsB/BpRjYXN46a530VgYcu36jZpHkzOzQtiXuFa2kKMQjY/2MaYzv/8bNiGjp7EXfP2o/1v+2ftDQ0Yhj3jk02LPdrxC7qCD4UQLv704plGYnqWP5MV8shv2LT5m2QhEobDIsbB2ySZaDmXhXTb7bFohWy3VWSwFhTrQOGo1SJ90oddlcssnub5lcz5tqJb/6/dtMRo2rIgECT3HhJ87M8/+vVeZn/lkqI//OExPAu9A6AAMvM3ZGFtRJknmTrRnZlR2zUoxhLa1ZfZKsyuq2rjeR62y+bU8ltxjLftNNRlfup/1dXdb7yMlYoSyN6EUnhVa21T43SLY/CzWoZRSa6zTMkOSbFScJNKw1W7y/T4rRilNJtxcgMrhlAPOmo+Xknjp5s8WVhGGwc/H3mMCMjhDRjhUAEUggTNQI3kb52JY2HluI0MtmrNq7b3EWBuyRIkk8nIMVuVU41ZOvs6ZuXFbEmz9vMudhL//OExOcqxCKAAMmS3Vmyp3t/kx/kyz5muXHI1ZqLOZWN6uiS+kSsjOZM5VVfp+RklrAECJEqeXL04lXmebOAyU4cDJYRRIqZI7nJfHmTnolZQ40peM2bzq2TSLJPMlUc8diTkVOjVUSSNo4SgFGxpwVhRI8JOSoFsiRkjAVSQq4uTUcVC04Ms5lhcwsLgZg4QzgwECU6d1fsbm3YkEPzN6kpJdWaZY04qREDDJ9AioPsvUbJZUrM0gZXjBNVrY1I//OExO8slDZIANmM3JsktikGjVofTBLTULbcylk2GqVo8xZzbmpRJPH55n4SnC2JFj11jnuRNKwq6iTtvDEZKZ0cJYkmmhUoSnDWa8mshqenz0j6+VfUXjpGbp1/9H+mvDWaEE0qKi6KeJmnXm5mv7oqr1nnJKu0cq7bHLrmmt9SeXnHP2EvzaowGagGQjBIfHgeWpZGx1irxMkqUz+S6DJNEKluL2KSmmat/Unv5wWwQeazWd2cjfvS4Q3pUVaR//OExO8tzBo0ANpM3UlR5ZZpiORdUbhtsyL0m3RSF5a058rLyxrs1JJc/lMTwuCk68pV42u2Sx947VqSFKcZGP4a6fLV4nofpt/sPuu2+kvTnrpXSZOKZse5NSey93Ttyn7z++Uz9s+z8ejYp1y1+tlM94hVGVD7J6dJdd3aMTIpeDp1R8zcjMUerc4scIDDokw4Q8oYvKUhDChFsXa3F5Nla+hg/aB16nyzS1STlR1ukchPLtx3nZfn51O3IHLY//OExOop5AY4AVwwAbRg0sCpViIrol38P3T9T7aeigkPBUiT4eZl03ATbUcssSybty9YzK4yzOEQ0y9DFTct1L5A+0R1YqYfjnzNs8Bq4ch7F6NYhtNSWsAeNWEcAoat1fbdtXqn/V7Yim8+PBDqfEonCai/0H2zSmsGMTxLru4m+WxCoy4rnNLeGRLA17cLjF6xdt0/cNWOYeyNR4QSJgRFSxlrbOW16Wq7izqWnkNigiRdVCSh6WyEEXaXrHtu//OExPVSBDpcAZvAALtkROYdA2f15fI6TPn9z7hhzv5933CMZiE5QYiGARxIuO7S6G6FwH5UMTYZOqyRPw76WjUJUhKQEmuxeWZZklSqqyyPrJQgXqjqXxwaKwGHmusxZinVL6WJEAIdGwHqKpkwCIAcmFU4BQ9IGow4HY7ZrXW6ROM0tBbaUYkKBfcNuKRERNoccAegNVEqOcTxYKo5ZBUEi8Ypmhsk6ll+i1zAgiaOogBqpJzUsGhWQVTMC1d8//OExGAuk758AduYAMzdatjJFJE4gHxjoLKmRLqzdbqVd/SU6nf6KKKKLt1rWil6LVGpqas7Kb7aKNJJJI2TQcvtXdv/VWuuvU7omxmdImRAsJXWg83RUoonifIwzPIny6bmAKHmemp6xIGHwSdIAKEQzmHPJkIwjALJMDQHFvzAoCjdJJTAoBG5vBK3BHQQFgzx+7AAwGn4n5ggw0mD2dNfQAhUdge5luGoknl3Ln0y+eXcf1yEb3lbrtkZzcos//OExFg3Y+5kAO7m3bHIhDGg0Ni5TZJ1U2Ot4xxx7Gqn4y1b9r8akPAQPL1w0+hRFKAIqBcg6C2QxKOgScqGalImqXr/v/9ktmZaPpXUlZyZV06aF1KOls3dJRuSFSBsyKf11+j2WZl0xUeIaVVnWOmqlKMk0Ej5xMnTcuE4RYPiJ8li+QM+XlmpugeT03N4v9D6eVRudc5PAmHR3QZCbCBQgAwALAlBoDKgKPnuIYBL3RlsLeI3mUQTF7LIb4jI//OExC0yRApoAOaa3Zvq4u0HgMPfK3aAAhk2H44Vn033/1M4Z93vUEX/1ztxlWO8cq8aHi9DLb9SjnWrb/PWVJLf33G47F+t+NqGwaEanGi6SxcAmgOU4tdAkAvJtL5cUl////9v//Q9dl3V1LdZkZGiavfv+63WxmgkklMDUpuylpmC001rOm5KUyVPEMuJE4mD4NRQHuMAShSJMc5eLpuownHLizdTl7KakNvAjuFAsMP4MMAQkVO8aDgIAERE//OExBctm/J0AO6g3UG+gymFwDJVsQiL4gkHzDUAKeWW4wkeYYcdYG/0Oy6WLBkSOd3a3baQzXn9+60vn9/deL5//4Sh+ed7qnVXjXc7vWBpF0uH/nDcDb/n4QBjhzmOSh7Bd2DMjgwGC0QVjNaiKiCxoZ0SbJ9v//////60zB+7uvrUv2Q31Vf/rbSXSWitFGzWqW3upNbrnibPmZWJomyqsjlGBqYH5u7EJDV6JXrHQ6DTPbFFiTJ4ZaIFQGJE//OExBMsE9KEAOaa3bP1lsw4ApA2NzhwKGQBE0uXVbUMmLbm76MBZZFIDdZE2Hu85K6R+736woYzTf+HKek7+sPuY4/uxUlsPYSt6ETErH4i1vCxKJbWyqUmoxN2eZ9uUsNSKfmH8EKGcKsQiQHoJ4SI4h5G9ZIF1JJmQUv/////+tJFFlVLv9tNJFJ1aDrXr+pnVugu71///7smmtA6dLhgeXKZWCGvMOUVjlr7csCqcZONflFyoCBBtiQ86L4t//OExBUoe+KYANYU3VE/wUbM1UTFi1iPqZoDzs8xBedgiDZtmOegWVy5nC65p/rdP2bfuHcqenldNLausM9Z47zzysztWVy94GWpXUy5FTue5ENyiMUk3J5+rjunys1LlfKxQx6NUwX4FcF8MgvALBwflBiTDQhPKGl3sZ////////+96sldG7f+/2////RFPPas8oay1INrSKC93GmChlJGlvzythcdzYejINGmlYmKgHoMCtKAgEQdRmIonoGA//OExCYmsuakANYauGWajggqOBqQMDL5SOksxCI0D/RKxK5mkuVL1Pha/XO48/PCvqdlMfmBPzUToRQdxBA3QTwTwTcWxAMlExycalxRfUcRNEykTDY4S5MGUIIaiaD3GsfBkF8mGhiyJgzLT//////////9zp8Dol22f//LZXK0InY7bm3/Frb3QJ7gMzvVHIWAOAEEChAKlYFZMtRdTKoYXIhNflR5wEbANgcoQjEIAEeFer1e2BIAgWHpdNdl//OExD4iqcakAMZYlJPYUlfzz3XmP/psUdkJDNC8Vl6MRi0PQEBDBwSmvMTp6lXnZ+su2jXMIK1WfmAlkwDwjHIyI5XQ6LSwqTP/////aoqFDIqqea7///9dl6NMpfwxll/VZkKDGmM507HShI4gWaM/MFc4gd+2ItcBghMWo2JSgiNGEBloU4zBlSjMAhLmrIZdEYdlMjjDvU0jnY13LVPZ1rWPP+zl/N4X90KZ4eRuSgjI1DcOMgDxLxSNTNAy//OExGYnQvacAM6auDJNTmqTJIomi7kUrHoJUFVBOTMTglh1HNNlmbGKmZd0F+3////rX6Kb3Tf1v02Wp0FPPm3JoSljLTK7PjHl30tQQAVhWHfl9GMnCHp8prgwsA7iBg8CaqjkXha5DwgCJdwGxQGAjcMjZlmpvgBBTT84EbgprFbuDxzuq1hmtuG+trMeLXUCtfaa1ni5hOScG4Z5cVChC7i39LW3v2xXedZpuWZydIhtVjxPRWRbVLVsEQSY//OExHwk+cKUANaelEEOAP//EJEHxIFBc28AjG4FcVamxV3/1GwslpBUSbEE98OqOGKir/tr7MXDLoxJcgNoCVVni4EpSJTB0vRPBUZp0BgkGcNiDjqwS6i6SXMxEFtOTZp3jdqRYyuXZZ4TPP+7r/qY8+vd5qvQGzlAY4/mo9hgC+g5fNGRnknW60luitA6TiSMB2BI03J41Esaps6y4iZGzs9bsl////+t0mo3qNtVc4FQdW59yfkAK7/0yj1z//OExJsm2rKQANaauBWM3Y4QnIKCMZCFQc4EEVy4RYEQQVOW3ALkBojqNErDkcxhWs12YIM4IFhcNEgY6iISnMEYuMlQgC+WUqbXK29eseTGG+bl1rVyly/7eO/x/+U9LVYlBMkhwA6DM4fKzSykUUV+zopmVRgJ+Xg5ROD+MKJKTR+JqRkXCkcPm55bpIsjf////7d9S22oqpmpykbLY3eylJJ6D3/1aIbUgxplASlMiQEtiANNZkkCLxRwR5BU//OExLInOsaIAN6auGWoLbMAiQpBaJTdxUKmMwVA7wkoQDb04kTiWIf0SX6ejgkQm9RNK2drYOZdwuw93XKTv/a1r6nf3lrv2MubmtfRuNDtLaj/eas4/2v/NXu7zr8w1GADg0VGgOgmGo6ASLVKE6Kh9TVPU47/////dDnVJ3x08kPjUuvnf+mlfr////XrqOoRVb6qboGCfiryDqV/I6O3oc3rBoimIhIDAYfUONObj5yZR9oQIUwgPk08YslA//OExMgnY76AAOaO3OgkhcDKrA1sYW2xUwUBHgnLiisU7VceTa+Cce7l97/q4/+eP6q/zt/DuFKiioNEFAjRMCAJPMkkJgk6ZeVWYJHSbHEVkjpFknomLT16LLpOtNX/////rWr/UtBjssHDNM1//QlP/vSBASDYs1I2Z+95KrQUBZAslTsx0A1RReZh8pJo2CpgSFZgkDZiuzJj8E4FAEwMDAxjuIxTFQHA2mEYsB4NBEmyvQzWpkbDB4CLlC4b//OExN0m4rp4AN7guBGCnWbQxwG1i0T4hUKSGYvEwEluErZVdt0MCY/XdburvP1ce78JjLnG6Pd2LNTGhC5FGre0DVjGr+cF2c+RXcz7o5XpxYCfyNEJ6EhKHjjAEmjxQalmUaEmUt//9bG1/37jqD01TXJHseOAwTjIpBwVIFTmHPr//1PMmK5o4heuv9e9NY0DZEqRFg4WE467IhuatJhbX+xVYYSAtkYgnoVBLmrvM0GINO5gMTiEQmcreazE//OExPQ2C9ZgAO8O3aVAMYKApvumkUoBwXa0ZHLxUBEvZ+Zxdv+YGFGFDBTIIsxioZaCSfckMEA5fTwA0vfLrHbnKkC6yocsuXZ3Xc5Fnyg/DBol+WvCMgrJZTTLZu1Lskz7aotWuS77vIlybwaLJumFDUjQw6H55OcNiEelhQQKrf///sq29Wsq1qWUuQxgwVgcEQNR8Mj5q6/obpp7HHnFDSQfFBizGI/6fq9DTCYdceSUanyU4nISNEIjlRCJ//OExM40XAJgAObU3GgXRSp7gSAmVmBKOaPApeEGgIxJ6jYocEAfMKgQ05OgVngMKDBIFONJ8yWCS6DmGBDGjbIYYMDskki7w6KnCkJYAHdbiUKEO35oWIopfm0or9SCqXHCSd72O48wmbP8xo8ex61+T7XsI6XVfVx5xTqHrl+I0vcp7uVWiqZ6fnVLis65Xks84lKMWGxxAK4rj8EEnJmY1v//7//93taxVjyRhFD4L8LkS3GYqsWMRW3p71r1//OExK81/AJcAObU3UMLoVH48ISERYqFTiAxmTqvXtW5hc8qcWJSRh6cPCUnlXIDhmToj7StHAC5TWTBzvBW74OAQyvqjMQiIAEYHERm3XAAWFzRkJGaaIYECzPYWCAo2eRQgL/REHvAoIa4wnnbUaBQuanGxpqReKQGuid7Uee1dqRe/qrOc+rOWfyn//Ofy5BsgsU6qUD1pyNxTHOgz/OzbzvY1NZ2sK1uxY9z1Pcrc04oPignj023///X//pZ//OExIoyVBJcAOaU3M5UdihchNHyCsOgQjMRAXokDjkBrrv/M1tnoQTFFdjh+LxnFg08yuvS3fsymMjGuQMaRoapc1XHyFmJSxh5+tUkAZgQEzRgBYjYWeRpRj9xBGZFA0ECIySwAdbV4AIAmLwEHShi8AioacqWQs0JyNdEUODMnp9KlCFBV72aZKpp9LTOs9mXIZl/atFb5qvh3G3h35Z391P/47PTObXp+puvrP7G+51Mecl+XcIzrmU97oXu//OExHMvnApYAOZO3Xiw1ixE0bhhkO//////+rVc9mKik0bhMTIAHAChCIweJQqNLdU/esxEMVDmUdQfkYqHFFowhzHf/vW7rVEnEShxJS0wuOHo46arkupJUwCChQAABWnGRIv0tyCQABsqFwgFQKMj8mvL6DoJMKFsz0CYcsrKbXN4EJxOmlok8hye174IlSNWMzNMOuTdVdu8NS7O18u5jdnc+XZ3fJq1+61fmWq3br6w9Sdu2c93M7XeY4YU//OExGcv1AZQAOZU3bEK2q1rDLe0ZTZKklOONOU47///ax9Kft/6PYiOIBbYbBei8CUfi0PDRXGhMak/+nrdzTc84bKRE7OM0EUcXNU1P537o6q5YmZyQhuPwviFTzWuRTVk7cYqEQKYQEiIKMAtTHW5VpdcBCJlB6YICFxzGDU1hFbExMsiAgl3JNDTMkqxerOkYCCyCwyNSUfk1CfcMSAYWNlS09m1Ga63lGvy3u3rNbVgYxr8d78zq1r98nJp//OExFomW+ZIANsK3War3TMz0rpKUxn3///6rb///yshREOkNAZwk4RFREqP6f7yleg8p7qjupSlS69Tf+tt3lVERA8LgZrJqi/z37V7AsAw4YQsngQpMUJxroCogECrWXNQFAoGf6GX1oa8EMCZmoE8PlnmYXk9nzi8VqhjxY0RRzYh63its+vrqTEloX8XFawpYTBPiPNrfxW0XGNQ84g11nWPjGf7aIpbPdta3p6TLc7J2ddbtSrs7roljNDH//OExHMmE+JAANvE3XCoKDpL/6a9ySmQjucjQfdmKe9KeRTIu+JsiynHKSCjvRbGszaVTUaW1lWw0YBIprMCMOa7jrUZgxiUrfWj1Io0RpTKhlVz81i1ukhwiaSr4VQ7kVT2t3m9O69pxZvqqsImzMWisHsXLfHGbjGdXK88nobbqmJAoG+SfloZqiRGP3nYRPKXPXMFSdjVYYpcux2RRB9f/cl2F7fkZGmBBobetl4JDMzIanHqPIKLoNjYHr0S//OExI0ltBowAMpG3OQcivtVuh8Bx6UEQfinSaSIKjHLUaFK9gaswzRID+C4QkWPch4aR5hqVVWao2+J9sWtxhudQdB9SsLLY0dNhyiqTZVdDLjMfheUarMiCmzJuJdlUWoUTDPUyKqcKrPLlk1MtmQ3/6pBS3UzssjkqlVIvW5KdSkpwE5btVJRK4rOpLkZmpBV2PpCsKo2Vo3ZJkKPBeGqzqGxQemXSic2gf6Sw7Uyw/HGtdx1nj2/LsuhLSXZ//OExKkkW/IkAHoG3d6eeowKZjrbQqvdiuyqTgvsku2mUtLJByiiYLMPmmmoEsO2f6eHcSguSWQqj5liRclMS2sn5z5Z8Z3mWOfs7ZT//Xjura5sazq9RT/e8tKX34xeN9/fP5mTm3zHus/fGr7P2Zh8nf5Ztj67x6qTobvlP2gaKtSbmeS8+7JRbBRzdQqpQPs7tUgcZzyJuXSjRpJAJGhD8wDyk0EroZaCUFppGcZYdE/CMg2ScbpwzSQbR3OJ//OExMol3BIMAMmM3eF7Zi6flyaaVZ2PJJaKE7dEDNMtkFx5847h9MynkrZZpzUzXbPOv4rZMKrcNZVv4pn/ViNd51OSsbKff3dZvs/5/MNPv49O5ro+qa+V32vTM8s6kZdJ6L7+W3ujeJQnCPy/TZenJtT3CUGVCkZNEZupJSExTUmT7GBlKp834ohzpZraNipQPEUkBV0lWRGRnXlyBXlDmuiyiZWK9eZ5eTjcpK2UIUTWzxowwVbHyJIgmbQM//OExOUnNCn8AKGM3SFcvPD8AkzUCkhiUtREDTJwUZRzYWdTPUQh/thkchI/Nox5+0ebSajqROhE/esivaLMRIQYLPqHPTWkjcRSaslGWvzuXJ2ydZTakulWunRuzEp3EGt96J7vstd0TTUkRPIpa5+U7KCjRdTtnt0FK6K1z79JnzLKnoOXI9ez5Kd3KiS3HpwastnQ1HRyy4ycrT4yVVQy6SMYYz1GI0TcKiJ+FdRMmihqkWGy5+DWW72vW/rY//OExPstZDnwAKpM3A5Ld3PoaurEJWwSkOciCJn1Zi0QRIj85YrVqh9XCGUmeXgGerG7QaCu6Q0m0OTPA+ZcKZi+lbIGaQfHTSWRXRZAys0UeE3MFc5M9zzjsDHGhTOn8X3vDR1semTSvbISavZdsL0rZzwVKZWGbOQ4XmYgcuneU8qANSuKuVcqtn+9qVbmNJZoq28MpujieJkCNiMWEC2so8INGFqFSA2yhQKNk8DoNxUistzaNBeCCJLN7B0n//OExPgvJDnsANsM3ERC2gsiG15Q4OHh/JTUUUZ1E5vCW8PxRr8fxbGl9Ul8QNoY+DE30/zah2qhTN9WytSxprsbSHZTuWPbtuC6Vw6zGsqqM41Cc2G6tu7p9pNN+J1X0k15Uk/c++52TxKN27rydsapC+EZ5ZvUeM625fby5wkupfWWPMZOO0vkJxneGtasavfXoO1ZP9/lq1Zqky8E4IFlkaEnFJGuQY4bQTFE1WlyF7BnIsMrCmatUgSWmjRj//OExO4t/C3wANpS3Z06GVSWXpde24Gi6DRZl/O9tNdEVyWCAeUxr1BEis4mWezEkSaBRUxbnwSVXLL67espi+dp03dH7pFP1qOdcdUFJYmkHb3aRpplw2qjGTWKdA2V66RmpFF9MuO8lww/G09aaaMU9lbLJWo6Mw5EiolKg+FVGVCUshlYnR5jZZcpGNVO2cM/pN56q4SHPG/L7FTD4sqanas88mvo3bl1YfUiNmi0SspH0aWVbSEp6LTyp9SO//OExOktPDnwANpM3D6k1ZbGnau3uiarlX6P4Z6+8mZZlWWMKJzBqYKkVNrlnJVm3OppHJzcMl3uHIdZaZqaVD5vZNdFsojjpcOe5zUYQIffCb1NiNpC9UbG4d1r31jG6XUsgmjNpv4Sx01Um0HG6x35EpMqLcVAEdrZ3LyLyDrv2l1brUiSMVAWACkUv5YYfy3jVzrZ9zrdzs0e42dYckhI4bclUKlozBZsiViu/MI3nyNohQRlYSTkhEDDcSUg//OExOcsfCnwANsM3UJEXivJUrS5ualkcD4kIiB4zMmKspmpUCkM1BRiqTwxGyzHpqPYqWmmdSSyPwg8vEbhsTm8ZWNp6ZhXD8dZ3PVGvSLwSPmkL1PJQBUdMZRpReoMvdRqiKCRUApueJvMVCf7NB+fMfUiobCzqgsmSxWi1LGQbdu8TNFrPeSY/CopRO2Obr426TG/yUSjXf1hYryi2JlCxdCNrBoiXg6jirC5sTLybTHaKKqS5NMqQyZInglF//OExOgs1CHwANpM3eojJ0RM0dWOIGpkM0o0TChRlgz6ZXbenCVJIMWamk4lm5aqRzVFoLLroDC0einq+v22YtNrvlNNg2xUIunvZJoqxghjiKk3LtLTlsILJ4xOaGtQLM6ZSU2r1SStwYuVrpMYrPLdNJpybUJ7p/IT600LCCTayz0TcpxufuUUo1knZGcauvn2tlHUqgpFFpy+izJOkcSo0ETVN0W1llrYVxUbZS1mbTSp5nIpsvep6WTT8LJ0//OExOcvVDnsANpS3KS7FueXJUHWWXNNdpRntLpUmwkbrJLsMopJokyKZ4ShC3VuIRO20ol61VZdbO6NzwXLtu/fLelrjMe3L2TDnPjlbn3tiRvKt8HFcpZDIhsoFwo0/Vl7Jk4drI4anGFty91CTqP8qm411GpVSKbHlmWfytrfTWgiXq8GKQI+xlUrvL+UoxwwvdlvY1FMKbOZrcxoMCzAhXMGS4ysM15cRQlk8LVNLRKDl+69SWxxRPE9mM4u//OExNwpzBHwAKpM3WyixbVE9eY0TvvJC+QVSaBekUwmznKEN/D3mHF6upYg+5PaNppDr8YYtleEw/KCAkUI213tXTLcyhVlFNvb1O3pVUHUs5RKaBtYvJY8gvp9ruRQcabfi0ISQwRrIoFgu2mhOwMIfE8zaGTaKcRdmjCHGNicsyTcxfeQ0gXcvVKUvNNm3SQkFIEiltomujknTKB3bQ1aLVrtEh0pGflv2Kly/2x3K5XlM5Xn6udDpq25wTaV//OExOczhDnoANsS3KaaiOoV5HFCdlEJi0kRAPpsRioNMrQomlEtCR7bkjLtm00z55mpIXL4+FxhqqxRCSzIdNMZeEq6qoiy07GIPvqtzsSddC6jBdUfoGrMS1AzMyQzteEHiVW+qe2lKiOJWLF2Sgw/UlJc9Js8kK/+0RAqy0FnfoGqhZFaWJFu35WrU/NnU3M7Xjai7c1K60ydSfJKW9OniyDAaiMIRUelr8/DD+Usbxuy/HUmp7dq3dwljHIy//OExMwsXDHwANpM3XZbRSIhHNChOojCtKEJ+B8WPV0ihQ1q5tEpUDM0bKhCqrZu1chSGopQEhxEgtAli67KrTBvUUYkWuCDKJkiaEXyK3tjVySI4iXqkxjtFHygfpmbGnpHKTzMYt+utJ1DnL0u38q04qII1to3eXpf0HYt5wPuoShW19ZBPXP2jSdO52RiVGlG9a3e1ycfybPrLdiu+SbB73t3SOqxyeqVgwoQlnyRTfNJYjLHZfmYf63DMO1I//OExM0tlCnwANpM3WiUsGmiElgRE0fcY/pilFZCSpCp8f/UtVQxWIUMEUyFDH9ZFsV+gQEK1/ilAICFGpVSDCqAiWXPqlrwCb9tmP2b/2aqvYzev8DARrGbZj+qX8ZmPnxmZmCr9CiSt+JrYU2KyeFQioLj/+Em9BfyCgp/GwVE1FNxBTfhdBYssFAiEQ4MsCHRiIBedCYnYo+xpo7MGltYct/BQTuaQkRUPB8QiIQjQfGBGQEZdReDbpKrIiEi//OExMkkcvHsAMJGuSo0HxgbGBoqWOlF0CNBDclE4sos040osw+LvNmpKLKONOEgQGYeYUWUXFxuZs1LOU7s7O15uzU05RZRxpxZR5h5jOzxub3qWdnZ3Z2fNzampZ2co40osqwMhfTdINVVErp/6gkrTTRVVEW2iqqrpppA7/9NEaqqJUxBTUUzLjEwMFVVVVVVVVVVVVVVVVVVVVVVVVVVVVVVVVVVVVVVVVVVVVVVVVVVVVVVVVVVVVVVVVVV//OExOorqukIAMJMuVVVVVVVVVVVVVVVVVVVVVVVVVVVVVVVVVVVVVVVVVVVVVVVVVVVVVVVVVVVVVVVVVVVVVVVVVVVVVVVVVVVVVVVVVVVVVVVVVVVVVVVVVVVVVVVVVVVVVVVVVVVVVVVVVVVVVVVVVVVVVVVVVVVVVVVVVVVVVVVVVVVVVVVVVVVVVVVVVVVVVVVVVVVVVVVVVVVVVVVVVVVVVVVVVVVVVVVVVVVVVVVVVVVVVVVVVVVVVVV\" type=\"audio/mpeg\" />\n",
              "                    Your browser does not support the audio element.\n",
              "                </audio>\n",
              "              "
            ]
          },
          "metadata": {},
          "execution_count": 31
        }
      ]
    },
    {
      "cell_type": "code",
      "source": [
        "import speech_recognition as sr\n",
        "\n",
        "def speech_to_text():\n",
        "    recognizer = sr.Recognizer()\n",
        "    with sr.Microphone() as source:\n",
        "        print(\"Diga algo: \")\n",
        "        recognizer.adjust_for_ambient_noise(source)\n",
        "        audio = recognizer.listen(source)\n",
        "        try:\n",
        "            text = recognizer.recognize_google(audio, language='pt-BR')\n",
        "            print(f\"Você disse: {text}\")\n",
        "            return text\n",
        "        except sr.UnknownValueError:\n",
        "            print(\"Não consegui entender o que você disse.\")\n",
        "            return None\n",
        "        except sr.RequestError:\n",
        "            print(\"Erro ao se conectar com o serviço de reconhecimento de fala.\")\n",
        "            return None\n"
      ],
      "metadata": {
        "id": "uqYPewdybIrE"
      },
      "execution_count": null,
      "outputs": []
    },
    {
      "cell_type": "code",
      "source": [
        "import webbrowser\n",
        "import wikipedia\n",
        "\n",
        "def pesquisar_wikipedia(query):\n",
        "    try:\n",
        "        resultado = wikipedia.summary(query, sentences=1)\n",
        "        print(f\"Resultado da pesquisa: {resultado}\")\n",
        "        text_to_speech(resultado)\n",
        "    except wikipedia.exceptions.DisambiguationError as e:\n",
        "        print(f\"A pesquisa retornou múltiplos resultados: {e.options}\")\n",
        "        text_to_speech(\"Por favor, seja mais específico na sua pesquisa.\")\n",
        "    except wikipedia.exceptions.HTTPTimeoutError:\n",
        "        print(\"Erro de tempo de conexão com a Wikipedia.\")\n",
        "        text_to_speech(\"Houve um erro ao buscar a informação.\")\n",
        "\n",
        "def abrir_youtube():\n",
        "    webbrowser.open(\"https://www.youtube.com\")\n",
        "    text_to_speech(\"Abrindo o YouTube.\")"
      ],
      "metadata": {
        "id": "ejUNn1pVbI2C"
      },
      "execution_count": null,
      "outputs": []
    },
    {
      "cell_type": "code",
      "source": [
        "def executar_comando():\n",
        "    comando = speech_to_text()\n",
        "    if comando:\n",
        "        comando = comando.lower()  # Para evitar problemas com letras maiúsculas\n",
        "        if \"wikipedia\" in comando:\n",
        "            termo = comando.replace(\"pesquisar no wikipedia\", \"\").strip()\n",
        "            pesquisar_wikipedia(termo)\n",
        "        elif \"youtube\" in comando:\n",
        "            abrir_youtube()\n",
        "       # elif \"farmácia\" in comando:\n",
        "        #    localizar_farmacia()\n",
        "        else:\n",
        "            text_to_speech(\"Desculpe, não entendi o comando.\")\n"
      ],
      "metadata": {
        "id": "_i9Zn9xycBQU"
      },
      "execution_count": null,
      "outputs": []
    },
    {
      "cell_type": "code",
      "source": [
        "# Teste de execução de comando\n",
        "executar_comando()\n"
      ],
      "metadata": {
        "colab": {
          "base_uri": "https://localhost:8080/",
          "height": 408
        },
        "id": "VIbgn3RzcBYp",
        "outputId": "3ebeb788-a5f6-4b71-fe7c-a8c424432920"
      },
      "execution_count": null,
      "outputs": [
        {
          "output_type": "error",
          "ename": "AttributeError",
          "evalue": "Could not find PyAudio; check installation",
          "traceback": [
            "\u001b[0;31m---------------------------------------------------------------------------\u001b[0m",
            "\u001b[0;31mModuleNotFoundError\u001b[0m                       Traceback (most recent call last)",
            "\u001b[0;32m/usr/local/lib/python3.11/dist-packages/speech_recognition/__init__.py\u001b[0m in \u001b[0;36mget_pyaudio\u001b[0;34m()\u001b[0m\n\u001b[1;32m    102\u001b[0m         \u001b[0;32mtry\u001b[0m\u001b[0;34m:\u001b[0m\u001b[0;34m\u001b[0m\u001b[0;34m\u001b[0m\u001b[0m\n\u001b[0;32m--> 103\u001b[0;31m             \u001b[0;32mimport\u001b[0m \u001b[0mpyaudio\u001b[0m\u001b[0;34m\u001b[0m\u001b[0;34m\u001b[0m\u001b[0m\n\u001b[0m\u001b[1;32m    104\u001b[0m         \u001b[0;32mexcept\u001b[0m \u001b[0mImportError\u001b[0m\u001b[0;34m:\u001b[0m\u001b[0;34m\u001b[0m\u001b[0;34m\u001b[0m\u001b[0m\n",
            "\u001b[0;31mModuleNotFoundError\u001b[0m: No module named 'pyaudio'",
            "\nDuring handling of the above exception, another exception occurred:\n",
            "\u001b[0;31mAttributeError\u001b[0m                            Traceback (most recent call last)",
            "\u001b[0;32m<ipython-input-38-25d69e398b6f>\u001b[0m in \u001b[0;36m<cell line: 0>\u001b[0;34m()\u001b[0m\n\u001b[1;32m      1\u001b[0m \u001b[0;31m# Teste de execução de comando\u001b[0m\u001b[0;34m\u001b[0m\u001b[0;34m\u001b[0m\u001b[0m\n\u001b[0;32m----> 2\u001b[0;31m \u001b[0mexecutar_comando\u001b[0m\u001b[0;34m(\u001b[0m\u001b[0;34m)\u001b[0m\u001b[0;34m\u001b[0m\u001b[0;34m\u001b[0m\u001b[0m\n\u001b[0m",
            "\u001b[0;32m<ipython-input-34-6b6561e68ba6>\u001b[0m in \u001b[0;36mexecutar_comando\u001b[0;34m()\u001b[0m\n\u001b[1;32m      1\u001b[0m \u001b[0;32mdef\u001b[0m \u001b[0mexecutar_comando\u001b[0m\u001b[0;34m(\u001b[0m\u001b[0;34m)\u001b[0m\u001b[0;34m:\u001b[0m\u001b[0;34m\u001b[0m\u001b[0;34m\u001b[0m\u001b[0m\n\u001b[0;32m----> 2\u001b[0;31m     \u001b[0mcomando\u001b[0m \u001b[0;34m=\u001b[0m \u001b[0mspeech_to_text\u001b[0m\u001b[0;34m(\u001b[0m\u001b[0;34m)\u001b[0m\u001b[0;34m\u001b[0m\u001b[0;34m\u001b[0m\u001b[0m\n\u001b[0m\u001b[1;32m      3\u001b[0m     \u001b[0;32mif\u001b[0m \u001b[0mcomando\u001b[0m\u001b[0;34m:\u001b[0m\u001b[0;34m\u001b[0m\u001b[0;34m\u001b[0m\u001b[0m\n\u001b[1;32m      4\u001b[0m         \u001b[0mcomando\u001b[0m \u001b[0;34m=\u001b[0m \u001b[0mcomando\u001b[0m\u001b[0;34m.\u001b[0m\u001b[0mlower\u001b[0m\u001b[0;34m(\u001b[0m\u001b[0;34m)\u001b[0m  \u001b[0;31m# Para evitar problemas com letras maiúsculas\u001b[0m\u001b[0;34m\u001b[0m\u001b[0;34m\u001b[0m\u001b[0m\n\u001b[1;32m      5\u001b[0m         \u001b[0;32mif\u001b[0m \u001b[0;34m\"wikipedia\"\u001b[0m \u001b[0;32min\u001b[0m \u001b[0mcomando\u001b[0m\u001b[0;34m:\u001b[0m\u001b[0;34m\u001b[0m\u001b[0;34m\u001b[0m\u001b[0m\n",
            "\u001b[0;32m<ipython-input-32-d9c11ee29f99>\u001b[0m in \u001b[0;36mspeech_to_text\u001b[0;34m()\u001b[0m\n\u001b[1;32m      3\u001b[0m \u001b[0;32mdef\u001b[0m \u001b[0mspeech_to_text\u001b[0m\u001b[0;34m(\u001b[0m\u001b[0;34m)\u001b[0m\u001b[0;34m:\u001b[0m\u001b[0;34m\u001b[0m\u001b[0;34m\u001b[0m\u001b[0m\n\u001b[1;32m      4\u001b[0m     \u001b[0mrecognizer\u001b[0m \u001b[0;34m=\u001b[0m \u001b[0msr\u001b[0m\u001b[0;34m.\u001b[0m\u001b[0mRecognizer\u001b[0m\u001b[0;34m(\u001b[0m\u001b[0;34m)\u001b[0m\u001b[0;34m\u001b[0m\u001b[0;34m\u001b[0m\u001b[0m\n\u001b[0;32m----> 5\u001b[0;31m     \u001b[0;32mwith\u001b[0m \u001b[0msr\u001b[0m\u001b[0;34m.\u001b[0m\u001b[0mMicrophone\u001b[0m\u001b[0;34m(\u001b[0m\u001b[0;34m)\u001b[0m \u001b[0;32mas\u001b[0m \u001b[0msource\u001b[0m\u001b[0;34m:\u001b[0m\u001b[0;34m\u001b[0m\u001b[0;34m\u001b[0m\u001b[0m\n\u001b[0m\u001b[1;32m      6\u001b[0m         \u001b[0mprint\u001b[0m\u001b[0;34m(\u001b[0m\u001b[0;34m\"Diga algo: \"\u001b[0m\u001b[0;34m)\u001b[0m\u001b[0;34m\u001b[0m\u001b[0;34m\u001b[0m\u001b[0m\n\u001b[1;32m      7\u001b[0m         \u001b[0mrecognizer\u001b[0m\u001b[0;34m.\u001b[0m\u001b[0madjust_for_ambient_noise\u001b[0m\u001b[0;34m(\u001b[0m\u001b[0msource\u001b[0m\u001b[0;34m)\u001b[0m\u001b[0;34m\u001b[0m\u001b[0;34m\u001b[0m\u001b[0m\n",
            "\u001b[0;32m/usr/local/lib/python3.11/dist-packages/speech_recognition/__init__.py\u001b[0m in \u001b[0;36m__init__\u001b[0;34m(self, device_index, sample_rate, chunk_size)\u001b[0m\n\u001b[1;32m     73\u001b[0m \u001b[0;34m\u001b[0m\u001b[0m\n\u001b[1;32m     74\u001b[0m         \u001b[0;31m# set up PyAudio\u001b[0m\u001b[0;34m\u001b[0m\u001b[0;34m\u001b[0m\u001b[0m\n\u001b[0;32m---> 75\u001b[0;31m         \u001b[0mself\u001b[0m\u001b[0;34m.\u001b[0m\u001b[0mpyaudio_module\u001b[0m \u001b[0;34m=\u001b[0m \u001b[0mself\u001b[0m\u001b[0;34m.\u001b[0m\u001b[0mget_pyaudio\u001b[0m\u001b[0;34m(\u001b[0m\u001b[0;34m)\u001b[0m\u001b[0;34m\u001b[0m\u001b[0;34m\u001b[0m\u001b[0m\n\u001b[0m\u001b[1;32m     76\u001b[0m         \u001b[0maudio\u001b[0m \u001b[0;34m=\u001b[0m \u001b[0mself\u001b[0m\u001b[0;34m.\u001b[0m\u001b[0mpyaudio_module\u001b[0m\u001b[0;34m.\u001b[0m\u001b[0mPyAudio\u001b[0m\u001b[0;34m(\u001b[0m\u001b[0;34m)\u001b[0m\u001b[0;34m\u001b[0m\u001b[0;34m\u001b[0m\u001b[0m\n\u001b[1;32m     77\u001b[0m         \u001b[0;32mtry\u001b[0m\u001b[0;34m:\u001b[0m\u001b[0;34m\u001b[0m\u001b[0;34m\u001b[0m\u001b[0m\n",
            "\u001b[0;32m/usr/local/lib/python3.11/dist-packages/speech_recognition/__init__.py\u001b[0m in \u001b[0;36mget_pyaudio\u001b[0;34m()\u001b[0m\n\u001b[1;32m    103\u001b[0m             \u001b[0;32mimport\u001b[0m \u001b[0mpyaudio\u001b[0m\u001b[0;34m\u001b[0m\u001b[0;34m\u001b[0m\u001b[0m\n\u001b[1;32m    104\u001b[0m         \u001b[0;32mexcept\u001b[0m \u001b[0mImportError\u001b[0m\u001b[0;34m:\u001b[0m\u001b[0;34m\u001b[0m\u001b[0;34m\u001b[0m\u001b[0m\n\u001b[0;32m--> 105\u001b[0;31m             \u001b[0;32mraise\u001b[0m \u001b[0mAttributeError\u001b[0m\u001b[0;34m(\u001b[0m\u001b[0;34m\"Could not find PyAudio; check installation\"\u001b[0m\u001b[0;34m)\u001b[0m\u001b[0;34m\u001b[0m\u001b[0;34m\u001b[0m\u001b[0m\n\u001b[0m\u001b[1;32m    106\u001b[0m         \u001b[0;32mreturn\u001b[0m \u001b[0mpyaudio\u001b[0m\u001b[0;34m\u001b[0m\u001b[0;34m\u001b[0m\u001b[0m\n\u001b[1;32m    107\u001b[0m \u001b[0;34m\u001b[0m\u001b[0m\n",
            "\u001b[0;31mAttributeError\u001b[0m: Could not find PyAudio; check installation"
          ]
        }
      ]
    }
  ]
}